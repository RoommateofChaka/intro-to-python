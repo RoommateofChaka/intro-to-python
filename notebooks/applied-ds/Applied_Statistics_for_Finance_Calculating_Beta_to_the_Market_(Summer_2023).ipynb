{
  "nbformat": 4,
  "nbformat_minor": 0,
  "metadata": {
    "colab": {
      "provenance": [],
      "authorship_tag": "ABX9TyNKgYvMiAga27DJwONYeEH3",
      "include_colab_link": true
    },
    "kernelspec": {
      "name": "python3",
      "display_name": "Python 3"
    },
    "language_info": {
      "name": "python"
    }
  },
  "cells": [
    {
      "cell_type": "markdown",
      "metadata": {
        "id": "view-in-github",
        "colab_type": "text"
      },
      "source": [
        "<a href=\"https://colab.research.google.com/github/prof-rossetti/intro-to-python/blob/main/notebooks/applied-ds/Applied_Statistics_for_Finance_Calculating_Beta_to_the_Market_(Summer_2023).ipynb\" target=\"_parent\"><img src=\"https://colab.research.google.com/assets/colab-badge.svg\" alt=\"Open In Colab\"/></a>"
      ]
    },
    {
      "cell_type": "markdown",
      "source": [
        "In this notebook, we will attempt to calculate a given stock's beta to the market, as one way of assessing the risk of that stock.\n",
        "\n",
        "We will fetch some data about a number of stocks and the market.\n",
        "\n",
        "While we have the stock and market data, we will illustrate the previously introduced statistical concept of correlation, just for fun, as we see which stocks may be positively or negatively correlated with eachother.\n",
        "\n",
        "Then we will cover new statistical concpets of variance and covariance as we use these in our calculations for beta."
      ],
      "metadata": {
        "id": "p6YCup8i7BTo"
      }
    },
    {
      "cell_type": "markdown",
      "source": [
        "## Understanding Beta"
      ],
      "metadata": {
        "id": "Rf78pRdhcdz1"
      }
    },
    {
      "cell_type": "markdown",
      "source": [
        "https://www.investopedia.com/ask/answers/070615/what-formula-calculating-beta.asp\n",
        "\n",
        "\n",
        "> Beta is a measure used in fundamental analysis to determine the volatility of an asset or portfolio in relation to the overall market. The overall market has a beta of 1.0, and individual stocks are ranked according to how much they deviate from the market.\n",
        "\n",
        "> A stock that swings more than the market over time has a beta greater than 1.0. If a stock moves less than the market, the stock's beta is less than 1.0. High-beta stocks tend to be riskier but provide the potential for higher returns. Low-beta stocks pose less risk but typically yield lower returns.\n",
        "\n",
        "> As a result, beta is often used as a risk-reward measure, meaning it helps investors determine how much risk they are willing to take to achieve the return for taking on that risk. A stock's price variability is important to consider when assessing risk. If you think of risk as the possibility of a stock losing its value, beta is useful as a proxy for risk.\n",
        "\n"
      ],
      "metadata": {
        "id": "-xssFL-wclr2"
      }
    },
    {
      "cell_type": "markdown",
      "source": [
        "> To calculate the beta of a security, the covariance between the return of the security and the return of the market must be known, as well as the variance of the market returns.\n",
        "\n"
      ],
      "metadata": {
        "id": "AgGv1ZV8i9ha"
      }
    },
    {
      "cell_type": "markdown",
      "source": [
        "\\begin{align}\n",
        "        Beta = \\frac{Covariance} {Variance}\n",
        "\\end{align}"
      ],
      "metadata": {
        "id": "95p3aXUdj6eN"
      }
    },
    {
      "cell_type": "markdown",
      "source": [
        "> **Covariance** measures how two stocks move together. A positive covariance means the stocks tend to move together when their prices go up or down. A negative covariance means the stocks move opposite of each other.\n",
        "\n",
        "> **Variance**, on the other hand, refers to how far a stock moves relative to its mean. For example, variance is used in measuring the volatility of an individual stock's price over time. Covariance is used to measure the correlation in price moves of two different stocks.\n",
        "\n",
        "> The formula for calculating beta is the covariance of the return of an asset with the return of the benchmark, divided by the variance of the return of the benchmark over a certain period."
      ],
      "metadata": {
        "id": "BYD00zMqjW9Q"
      }
    },
    {
      "cell_type": "markdown",
      "source": [
        "OK, so let's fetch some data for a handful of stocks, and then use it to illustrate statistical concepts of variance and covariance, and then we will calculate beta to the market for one or moe of the stocks."
      ],
      "metadata": {
        "id": "z6CcGE436WuR"
      }
    },
    {
      "cell_type": "markdown",
      "source": [
        "## Fetching Stock and Market Data"
      ],
      "metadata": {
        "id": "Kx17rH3maxsO"
      }
    },
    {
      "cell_type": "markdown",
      "source": [
        "Installing packages:"
      ],
      "metadata": {
        "id": "MY4izYXSazHv"
      }
    },
    {
      "cell_type": "code",
      "source": [
        "# setup cell (run and leave as is)\n",
        "\n",
        "%%capture\n",
        "\n",
        "!pip install yahooquery"
      ],
      "metadata": {
        "id": "Mobj9PkkVpKc"
      },
      "execution_count": null,
      "outputs": []
    },
    {
      "cell_type": "markdown",
      "source": [
        "Getting stock (and market) prices data:"
      ],
      "metadata": {
        "id": "Ps53_uchaxMY"
      }
    },
    {
      "cell_type": "code",
      "source": [
        "# setup cell (run and leave as is)\n",
        "\n",
        "# https://yahooquery.dpguthrie.com/guide/ticker/intro/\n",
        "from yahooquery import Ticker\n",
        "\n",
        "symbols = [\"AAPL\", \"GOOGL\", \"META\", \"MSFT\", \"NFLX\", \"AMZN\", \"NVDA\",\n",
        "           \"BAC\", \"JPM\"\n",
        "]\n",
        "companies = Ticker(symbols + [\"SPY\"]) # adding market to the data, but leaving the symbols variable as just a list of the individual stocks (for reference later on)\n",
        "print(type(companies))"
      ],
      "metadata": {
        "colab": {
          "base_uri": "https://localhost:8080/"
        },
        "id": "KdZMGL9rjm8K",
        "outputId": "b6206cb5-22d9-4e63-dd98-708faf00702e"
      },
      "execution_count": null,
      "outputs": [
        {
          "output_type": "stream",
          "name": "stdout",
          "text": [
            "<class 'yahooquery.ticker.Ticker'>\n"
          ]
        }
      ]
    },
    {
      "cell_type": "code",
      "source": [
        "from pandas import to_datetime\n",
        "\n",
        "histories_df = companies.history()\n",
        "histories_df[\"symbol\"] = histories_df.index.get_level_values(0)\n",
        "histories_df[\"date\"] = to_datetime(histories_df.index.get_level_values(1)).date\n",
        "histories_df.reset_index(drop=True, inplace=True)\n",
        "print(len(histories_df)) #> 1053 rows\n",
        "histories_df[[\"date\", \"symbol\", \"adjclose\"]].head()"
      ],
      "metadata": {
        "colab": {
          "base_uri": "https://localhost:8080/",
          "height": 224
        },
        "id": "6xKbM_DplEPD",
        "outputId": "7b0830fe-a6cb-4f05-d230-be2c67dbfd21"
      },
      "execution_count": null,
      "outputs": [
        {
          "output_type": "stream",
          "name": "stdout",
          "text": [
            "1220\n"
          ]
        },
        {
          "output_type": "execute_result",
          "data": {
            "text/plain": [
              "         date symbol    adjclose\n",
              "0  2023-01-02   AAPL  124.706833\n",
              "1  2023-01-03   AAPL  125.993095\n",
              "2  2023-01-04   AAPL  124.656982\n",
              "3  2023-01-05   AAPL  129.243622\n",
              "4  2023-01-08   AAPL  129.772079"
            ],
            "text/html": [
              "\n",
              "  <div id=\"df-76abc3f1-8c7f-4713-9551-c745d700803f\">\n",
              "    <div class=\"colab-df-container\">\n",
              "      <div>\n",
              "<style scoped>\n",
              "    .dataframe tbody tr th:only-of-type {\n",
              "        vertical-align: middle;\n",
              "    }\n",
              "\n",
              "    .dataframe tbody tr th {\n",
              "        vertical-align: top;\n",
              "    }\n",
              "\n",
              "    .dataframe thead th {\n",
              "        text-align: right;\n",
              "    }\n",
              "</style>\n",
              "<table border=\"1\" class=\"dataframe\">\n",
              "  <thead>\n",
              "    <tr style=\"text-align: right;\">\n",
              "      <th></th>\n",
              "      <th>date</th>\n",
              "      <th>symbol</th>\n",
              "      <th>adjclose</th>\n",
              "    </tr>\n",
              "  </thead>\n",
              "  <tbody>\n",
              "    <tr>\n",
              "      <th>0</th>\n",
              "      <td>2023-01-02</td>\n",
              "      <td>AAPL</td>\n",
              "      <td>124.706833</td>\n",
              "    </tr>\n",
              "    <tr>\n",
              "      <th>1</th>\n",
              "      <td>2023-01-03</td>\n",
              "      <td>AAPL</td>\n",
              "      <td>125.993095</td>\n",
              "    </tr>\n",
              "    <tr>\n",
              "      <th>2</th>\n",
              "      <td>2023-01-04</td>\n",
              "      <td>AAPL</td>\n",
              "      <td>124.656982</td>\n",
              "    </tr>\n",
              "    <tr>\n",
              "      <th>3</th>\n",
              "      <td>2023-01-05</td>\n",
              "      <td>AAPL</td>\n",
              "      <td>129.243622</td>\n",
              "    </tr>\n",
              "    <tr>\n",
              "      <th>4</th>\n",
              "      <td>2023-01-08</td>\n",
              "      <td>AAPL</td>\n",
              "      <td>129.772079</td>\n",
              "    </tr>\n",
              "  </tbody>\n",
              "</table>\n",
              "</div>\n",
              "      <button class=\"colab-df-convert\" onclick=\"convertToInteractive('df-76abc3f1-8c7f-4713-9551-c745d700803f')\"\n",
              "              title=\"Convert this dataframe to an interactive table.\"\n",
              "              style=\"display:none;\">\n",
              "        \n",
              "  <svg xmlns=\"http://www.w3.org/2000/svg\" height=\"24px\"viewBox=\"0 0 24 24\"\n",
              "       width=\"24px\">\n",
              "    <path d=\"M0 0h24v24H0V0z\" fill=\"none\"/>\n",
              "    <path d=\"M18.56 5.44l.94 2.06.94-2.06 2.06-.94-2.06-.94-.94-2.06-.94 2.06-2.06.94zm-11 1L8.5 8.5l.94-2.06 2.06-.94-2.06-.94L8.5 2.5l-.94 2.06-2.06.94zm10 10l.94 2.06.94-2.06 2.06-.94-2.06-.94-.94-2.06-.94 2.06-2.06.94z\"/><path d=\"M17.41 7.96l-1.37-1.37c-.4-.4-.92-.59-1.43-.59-.52 0-1.04.2-1.43.59L10.3 9.45l-7.72 7.72c-.78.78-.78 2.05 0 2.83L4 21.41c.39.39.9.59 1.41.59.51 0 1.02-.2 1.41-.59l7.78-7.78 2.81-2.81c.8-.78.8-2.07 0-2.86zM5.41 20L4 18.59l7.72-7.72 1.47 1.35L5.41 20z\"/>\n",
              "  </svg>\n",
              "      </button>\n",
              "      \n",
              "  <style>\n",
              "    .colab-df-container {\n",
              "      display:flex;\n",
              "      flex-wrap:wrap;\n",
              "      gap: 12px;\n",
              "    }\n",
              "\n",
              "    .colab-df-convert {\n",
              "      background-color: #E8F0FE;\n",
              "      border: none;\n",
              "      border-radius: 50%;\n",
              "      cursor: pointer;\n",
              "      display: none;\n",
              "      fill: #1967D2;\n",
              "      height: 32px;\n",
              "      padding: 0 0 0 0;\n",
              "      width: 32px;\n",
              "    }\n",
              "\n",
              "    .colab-df-convert:hover {\n",
              "      background-color: #E2EBFA;\n",
              "      box-shadow: 0px 1px 2px rgba(60, 64, 67, 0.3), 0px 1px 3px 1px rgba(60, 64, 67, 0.15);\n",
              "      fill: #174EA6;\n",
              "    }\n",
              "\n",
              "    [theme=dark] .colab-df-convert {\n",
              "      background-color: #3B4455;\n",
              "      fill: #D2E3FC;\n",
              "    }\n",
              "\n",
              "    [theme=dark] .colab-df-convert:hover {\n",
              "      background-color: #434B5C;\n",
              "      box-shadow: 0px 1px 3px 1px rgba(0, 0, 0, 0.15);\n",
              "      filter: drop-shadow(0px 1px 2px rgba(0, 0, 0, 0.3));\n",
              "      fill: #FFFFFF;\n",
              "    }\n",
              "  </style>\n",
              "\n",
              "      <script>\n",
              "        const buttonEl =\n",
              "          document.querySelector('#df-76abc3f1-8c7f-4713-9551-c745d700803f button.colab-df-convert');\n",
              "        buttonEl.style.display =\n",
              "          google.colab.kernel.accessAllowed ? 'block' : 'none';\n",
              "\n",
              "        async function convertToInteractive(key) {\n",
              "          const element = document.querySelector('#df-76abc3f1-8c7f-4713-9551-c745d700803f');\n",
              "          const dataTable =\n",
              "            await google.colab.kernel.invokeFunction('convertToInteractive',\n",
              "                                                     [key], {});\n",
              "          if (!dataTable) return;\n",
              "\n",
              "          const docLinkHtml = 'Like what you see? Visit the ' +\n",
              "            '<a target=\"_blank\" href=https://colab.research.google.com/notebooks/data_table.ipynb>data table notebook</a>'\n",
              "            + ' to learn more about interactive tables.';\n",
              "          element.innerHTML = '';\n",
              "          dataTable['output_type'] = 'display_data';\n",
              "          await google.colab.output.renderOutput(dataTable, element);\n",
              "          const docLink = document.createElement('div');\n",
              "          docLink.innerHTML = docLinkHtml;\n",
              "          element.appendChild(docLink);\n",
              "        }\n",
              "      </script>\n",
              "    </div>\n",
              "  </div>\n",
              "  "
            ]
          },
          "metadata": {},
          "execution_count": 4
        }
      ]
    },
    {
      "cell_type": "code",
      "source": [
        "# quick check for null values (because some stocks may have different history lengths)\n",
        "histories_df[\"adjclose\"].isnull().sum()  #> 0 ok looks good. can proceed without concern for nulls"
      ],
      "metadata": {
        "colab": {
          "base_uri": "https://localhost:8080/"
        },
        "id": "VHnuYmlMrEwx",
        "outputId": "f81e733e-b521-413a-c781-3eded19801dd"
      },
      "execution_count": null,
      "outputs": [
        {
          "output_type": "execute_result",
          "data": {
            "text/plain": [
              "0"
            ]
          },
          "metadata": {},
          "execution_count": 5
        }
      ]
    },
    {
      "cell_type": "code",
      "source": [
        "prices_pivot = histories_df.pivot(columns=\"symbol\", values=\"adjclose\", index=\"date\")\n",
        "print(len(prices_pivot))\n",
        "prices_pivot.head()"
      ],
      "metadata": {
        "colab": {
          "base_uri": "https://localhost:8080/",
          "height": 255
        },
        "id": "da7t8thIlNss",
        "outputId": "ebad852f-6aef-4f65-c1b3-4fdfd5b50410"
      },
      "execution_count": null,
      "outputs": [
        {
          "output_type": "stream",
          "name": "stdout",
          "text": [
            "122\n"
          ]
        },
        {
          "output_type": "execute_result",
          "data": {
            "text/plain": [
              "symbol            AAPL       AMZN        BAC      GOOGL         JPM  \\\n",
              "date                                                                  \n",
              "2023-01-02  124.706833  85.820000  33.030487  89.120003  133.084778   \n",
              "2023-01-03  125.993095  85.139999  33.651470  88.080002  134.325806   \n",
              "2023-01-04  124.656982  83.120003  33.582474  86.199997  134.296051   \n",
              "2023-01-05  129.243622  86.080002  33.917606  87.339996  136.865875   \n",
              "2023-01-08  129.772079  87.360001  33.405048  88.019997  136.300308   \n",
              "\n",
              "symbol            META        MSFT        NFLX        NVDA         SPY  \n",
              "date                                                                    \n",
              "2023-01-02  124.739998  238.460129  294.950012  143.110870  377.968140  \n",
              "2023-01-03  127.370003  228.029114  309.410004  147.449707  380.886139  \n",
              "2023-01-04  126.940002  221.270859  309.700012  142.611023  376.538910  \n",
              "2023-01-05  130.020004  223.878616  315.549988  148.549393  385.173737  \n",
              "2023-01-08  129.470001  226.058365  315.170013  156.237289  384.955383  "
            ],
            "text/html": [
              "\n",
              "  <div id=\"df-5a306641-e74a-4148-b71b-3b10ccc7b1a2\">\n",
              "    <div class=\"colab-df-container\">\n",
              "      <div>\n",
              "<style scoped>\n",
              "    .dataframe tbody tr th:only-of-type {\n",
              "        vertical-align: middle;\n",
              "    }\n",
              "\n",
              "    .dataframe tbody tr th {\n",
              "        vertical-align: top;\n",
              "    }\n",
              "\n",
              "    .dataframe thead th {\n",
              "        text-align: right;\n",
              "    }\n",
              "</style>\n",
              "<table border=\"1\" class=\"dataframe\">\n",
              "  <thead>\n",
              "    <tr style=\"text-align: right;\">\n",
              "      <th>symbol</th>\n",
              "      <th>AAPL</th>\n",
              "      <th>AMZN</th>\n",
              "      <th>BAC</th>\n",
              "      <th>GOOGL</th>\n",
              "      <th>JPM</th>\n",
              "      <th>META</th>\n",
              "      <th>MSFT</th>\n",
              "      <th>NFLX</th>\n",
              "      <th>NVDA</th>\n",
              "      <th>SPY</th>\n",
              "    </tr>\n",
              "    <tr>\n",
              "      <th>date</th>\n",
              "      <th></th>\n",
              "      <th></th>\n",
              "      <th></th>\n",
              "      <th></th>\n",
              "      <th></th>\n",
              "      <th></th>\n",
              "      <th></th>\n",
              "      <th></th>\n",
              "      <th></th>\n",
              "      <th></th>\n",
              "    </tr>\n",
              "  </thead>\n",
              "  <tbody>\n",
              "    <tr>\n",
              "      <th>2023-01-02</th>\n",
              "      <td>124.706833</td>\n",
              "      <td>85.820000</td>\n",
              "      <td>33.030487</td>\n",
              "      <td>89.120003</td>\n",
              "      <td>133.084778</td>\n",
              "      <td>124.739998</td>\n",
              "      <td>238.460129</td>\n",
              "      <td>294.950012</td>\n",
              "      <td>143.110870</td>\n",
              "      <td>377.968140</td>\n",
              "    </tr>\n",
              "    <tr>\n",
              "      <th>2023-01-03</th>\n",
              "      <td>125.993095</td>\n",
              "      <td>85.139999</td>\n",
              "      <td>33.651470</td>\n",
              "      <td>88.080002</td>\n",
              "      <td>134.325806</td>\n",
              "      <td>127.370003</td>\n",
              "      <td>228.029114</td>\n",
              "      <td>309.410004</td>\n",
              "      <td>147.449707</td>\n",
              "      <td>380.886139</td>\n",
              "    </tr>\n",
              "    <tr>\n",
              "      <th>2023-01-04</th>\n",
              "      <td>124.656982</td>\n",
              "      <td>83.120003</td>\n",
              "      <td>33.582474</td>\n",
              "      <td>86.199997</td>\n",
              "      <td>134.296051</td>\n",
              "      <td>126.940002</td>\n",
              "      <td>221.270859</td>\n",
              "      <td>309.700012</td>\n",
              "      <td>142.611023</td>\n",
              "      <td>376.538910</td>\n",
              "    </tr>\n",
              "    <tr>\n",
              "      <th>2023-01-05</th>\n",
              "      <td>129.243622</td>\n",
              "      <td>86.080002</td>\n",
              "      <td>33.917606</td>\n",
              "      <td>87.339996</td>\n",
              "      <td>136.865875</td>\n",
              "      <td>130.020004</td>\n",
              "      <td>223.878616</td>\n",
              "      <td>315.549988</td>\n",
              "      <td>148.549393</td>\n",
              "      <td>385.173737</td>\n",
              "    </tr>\n",
              "    <tr>\n",
              "      <th>2023-01-08</th>\n",
              "      <td>129.772079</td>\n",
              "      <td>87.360001</td>\n",
              "      <td>33.405048</td>\n",
              "      <td>88.019997</td>\n",
              "      <td>136.300308</td>\n",
              "      <td>129.470001</td>\n",
              "      <td>226.058365</td>\n",
              "      <td>315.170013</td>\n",
              "      <td>156.237289</td>\n",
              "      <td>384.955383</td>\n",
              "    </tr>\n",
              "  </tbody>\n",
              "</table>\n",
              "</div>\n",
              "      <button class=\"colab-df-convert\" onclick=\"convertToInteractive('df-5a306641-e74a-4148-b71b-3b10ccc7b1a2')\"\n",
              "              title=\"Convert this dataframe to an interactive table.\"\n",
              "              style=\"display:none;\">\n",
              "        \n",
              "  <svg xmlns=\"http://www.w3.org/2000/svg\" height=\"24px\"viewBox=\"0 0 24 24\"\n",
              "       width=\"24px\">\n",
              "    <path d=\"M0 0h24v24H0V0z\" fill=\"none\"/>\n",
              "    <path d=\"M18.56 5.44l.94 2.06.94-2.06 2.06-.94-2.06-.94-.94-2.06-.94 2.06-2.06.94zm-11 1L8.5 8.5l.94-2.06 2.06-.94-2.06-.94L8.5 2.5l-.94 2.06-2.06.94zm10 10l.94 2.06.94-2.06 2.06-.94-2.06-.94-.94-2.06-.94 2.06-2.06.94z\"/><path d=\"M17.41 7.96l-1.37-1.37c-.4-.4-.92-.59-1.43-.59-.52 0-1.04.2-1.43.59L10.3 9.45l-7.72 7.72c-.78.78-.78 2.05 0 2.83L4 21.41c.39.39.9.59 1.41.59.51 0 1.02-.2 1.41-.59l7.78-7.78 2.81-2.81c.8-.78.8-2.07 0-2.86zM5.41 20L4 18.59l7.72-7.72 1.47 1.35L5.41 20z\"/>\n",
              "  </svg>\n",
              "      </button>\n",
              "      \n",
              "  <style>\n",
              "    .colab-df-container {\n",
              "      display:flex;\n",
              "      flex-wrap:wrap;\n",
              "      gap: 12px;\n",
              "    }\n",
              "\n",
              "    .colab-df-convert {\n",
              "      background-color: #E8F0FE;\n",
              "      border: none;\n",
              "      border-radius: 50%;\n",
              "      cursor: pointer;\n",
              "      display: none;\n",
              "      fill: #1967D2;\n",
              "      height: 32px;\n",
              "      padding: 0 0 0 0;\n",
              "      width: 32px;\n",
              "    }\n",
              "\n",
              "    .colab-df-convert:hover {\n",
              "      background-color: #E2EBFA;\n",
              "      box-shadow: 0px 1px 2px rgba(60, 64, 67, 0.3), 0px 1px 3px 1px rgba(60, 64, 67, 0.15);\n",
              "      fill: #174EA6;\n",
              "    }\n",
              "\n",
              "    [theme=dark] .colab-df-convert {\n",
              "      background-color: #3B4455;\n",
              "      fill: #D2E3FC;\n",
              "    }\n",
              "\n",
              "    [theme=dark] .colab-df-convert:hover {\n",
              "      background-color: #434B5C;\n",
              "      box-shadow: 0px 1px 3px 1px rgba(0, 0, 0, 0.15);\n",
              "      filter: drop-shadow(0px 1px 2px rgba(0, 0, 0, 0.3));\n",
              "      fill: #FFFFFF;\n",
              "    }\n",
              "  </style>\n",
              "\n",
              "      <script>\n",
              "        const buttonEl =\n",
              "          document.querySelector('#df-5a306641-e74a-4148-b71b-3b10ccc7b1a2 button.colab-df-convert');\n",
              "        buttonEl.style.display =\n",
              "          google.colab.kernel.accessAllowed ? 'block' : 'none';\n",
              "\n",
              "        async function convertToInteractive(key) {\n",
              "          const element = document.querySelector('#df-5a306641-e74a-4148-b71b-3b10ccc7b1a2');\n",
              "          const dataTable =\n",
              "            await google.colab.kernel.invokeFunction('convertToInteractive',\n",
              "                                                     [key], {});\n",
              "          if (!dataTable) return;\n",
              "\n",
              "          const docLinkHtml = 'Like what you see? Visit the ' +\n",
              "            '<a target=\"_blank\" href=https://colab.research.google.com/notebooks/data_table.ipynb>data table notebook</a>'\n",
              "            + ' to learn more about interactive tables.';\n",
              "          element.innerHTML = '';\n",
              "          dataTable['output_type'] = 'display_data';\n",
              "          await google.colab.output.renderOutput(dataTable, element);\n",
              "          const docLink = document.createElement('div');\n",
              "          docLink.innerHTML = docLinkHtml;\n",
              "          element.appendChild(docLink);\n",
              "        }\n",
              "      </script>\n",
              "    </div>\n",
              "  </div>\n",
              "  "
            ]
          },
          "metadata": {},
          "execution_count": 6
        }
      ]
    },
    {
      "cell_type": "code",
      "source": [
        "earliest_date = prices_pivot.index.min()\n",
        "print(earliest_date)\n",
        "\n",
        "latest_date = prices_pivot.index.max()\n",
        "print(latest_date)"
      ],
      "metadata": {
        "colab": {
          "base_uri": "https://localhost:8080/"
        },
        "id": "oztGp-kh9prL",
        "outputId": "1e32abfd-9308-4163-a7b8-3c5536ca5ac9"
      },
      "execution_count": null,
      "outputs": [
        {
          "output_type": "stream",
          "name": "stdout",
          "text": [
            "2023-01-02\n",
            "2023-06-28\n"
          ]
        }
      ]
    },
    {
      "cell_type": "markdown",
      "source": [
        "Let's take a quick detour to do some plotting of growth rates, just so we can get a better sense of the data:"
      ],
      "metadata": {
        "id": "iBGuHpCD6qq_"
      }
    },
    {
      "cell_type": "code",
      "source": [
        "import plotly.express as px\n",
        "import warnings\n",
        "warnings.filterwarnings(\"ignore\")\n",
        "\n",
        "chart_symbol = \"NVDA\"  #@param [\"AAPL\", \"GOOGL\", \"META\", \"MSFT\", \"NFLX\", \"AMZN\", \"NVDA\", \"BAC\", \"JPM\"]\n",
        "\n",
        "chart_df = prices_pivot.copy()\n",
        "chart_df[\"date\"] = chart_df.index\n",
        "# calculate relative growth for charting:\n",
        "chart_df[\"SPY_growth\"] = (chart_df[\"SPY\"].pct_change(periods=1) + 1).cumprod()\n",
        "chart_df[\"SPY_growth\"].iloc[0] = 1\n",
        "chart_df[f\"{chart_symbol}_growth\"] = (chart_df[chart_symbol].pct_change(periods=1) + 1).cumprod()\n",
        "chart_df[f\"{chart_symbol}_growth\"].iloc[0] = 1\n",
        "\n",
        "px.line(chart_df, x=\"date\", y=[f\"{chart_symbol}_growth\", \"SPY_growth\"],\n",
        "        title=f\"Stock Performance ({chart_symbol} vs Market)\", height=350\n",
        ")"
      ],
      "metadata": {
        "colab": {
          "base_uri": "https://localhost:8080/",
          "height": 367
        },
        "id": "mtSHd58joSIX",
        "outputId": "5269b060-28cc-4b55-a76b-a0d7599b858e"
      },
      "execution_count": null,
      "outputs": [
        {
          "output_type": "display_data",
          "data": {
            "text/html": [
              "<html>\n",
              "<head><meta charset=\"utf-8\" /></head>\n",
              "<body>\n",
              "    <div>            <script src=\"https://cdnjs.cloudflare.com/ajax/libs/mathjax/2.7.5/MathJax.js?config=TeX-AMS-MML_SVG\"></script><script type=\"text/javascript\">if (window.MathJax && window.MathJax.Hub && window.MathJax.Hub.Config) {window.MathJax.Hub.Config({SVG: {font: \"STIX-Web\"}});}</script>                <script type=\"text/javascript\">window.PlotlyConfig = {MathJaxConfig: 'local'};</script>\n",
              "        <script src=\"https://cdn.plot.ly/plotly-2.18.2.min.js\"></script>                <div id=\"9f33b637-09c7-42a3-adba-f53ff4f3b5ac\" class=\"plotly-graph-div\" style=\"height:350px; width:100%;\"></div>            <script type=\"text/javascript\">                                    window.PLOTLYENV=window.PLOTLYENV || {};                                    if (document.getElementById(\"9f33b637-09c7-42a3-adba-f53ff4f3b5ac\")) {                    Plotly.newPlot(                        \"9f33b637-09c7-42a3-adba-f53ff4f3b5ac\",                        [{\"hovertemplate\":\"variable=NVDA_growth<br>date=%{x}<br>value=%{y}<extra></extra>\",\"legendgroup\":\"NVDA_growth\",\"line\":{\"color\":\"#636efa\",\"dash\":\"solid\"},\"marker\":{\"symbol\":\"circle\"},\"mode\":\"lines\",\"name\":\"NVDA_growth\",\"orientation\":\"v\",\"showlegend\":true,\"x\":[\"2023-01-02\",\"2023-01-03\",\"2023-01-04\",\"2023-01-05\",\"2023-01-08\",\"2023-01-09\",\"2023-01-10\",\"2023-01-11\",\"2023-01-12\",\"2023-01-16\",\"2023-01-17\",\"2023-01-18\",\"2023-01-19\",\"2023-01-22\",\"2023-01-23\",\"2023-01-24\",\"2023-01-25\",\"2023-01-26\",\"2023-01-29\",\"2023-01-30\",\"2023-01-31\",\"2023-02-01\",\"2023-02-02\",\"2023-02-05\",\"2023-02-06\",\"2023-02-07\",\"2023-02-08\",\"2023-02-09\",\"2023-02-12\",\"2023-02-13\",\"2023-02-14\",\"2023-02-15\",\"2023-02-16\",\"2023-02-20\",\"2023-02-21\",\"2023-02-22\",\"2023-02-23\",\"2023-02-26\",\"2023-02-27\",\"2023-02-28\",\"2023-03-01\",\"2023-03-02\",\"2023-03-05\",\"2023-03-06\",\"2023-03-07\",\"2023-03-08\",\"2023-03-09\",\"2023-03-12\",\"2023-03-13\",\"2023-03-14\",\"2023-03-15\",\"2023-03-16\",\"2023-03-19\",\"2023-03-20\",\"2023-03-21\",\"2023-03-22\",\"2023-03-23\",\"2023-03-26\",\"2023-03-27\",\"2023-03-28\",\"2023-03-29\",\"2023-03-30\",\"2023-04-02\",\"2023-04-03\",\"2023-04-04\",\"2023-04-05\",\"2023-04-09\",\"2023-04-10\",\"2023-04-11\",\"2023-04-12\",\"2023-04-13\",\"2023-04-16\",\"2023-04-17\",\"2023-04-18\",\"2023-04-19\",\"2023-04-20\",\"2023-04-23\",\"2023-04-24\",\"2023-04-25\",\"2023-04-26\",\"2023-04-27\",\"2023-04-30\",\"2023-05-01\",\"2023-05-02\",\"2023-05-03\",\"2023-05-04\",\"2023-05-07\",\"2023-05-08\",\"2023-05-09\",\"2023-05-10\",\"2023-05-11\",\"2023-05-14\",\"2023-05-15\",\"2023-05-16\",\"2023-05-17\",\"2023-05-18\",\"2023-05-21\",\"2023-05-22\",\"2023-05-23\",\"2023-05-24\",\"2023-05-25\",\"2023-05-29\",\"2023-05-30\",\"2023-05-31\",\"2023-06-01\",\"2023-06-04\",\"2023-06-05\",\"2023-06-06\",\"2023-06-07\",\"2023-06-08\",\"2023-06-11\",\"2023-06-12\",\"2023-06-13\",\"2023-06-14\",\"2023-06-15\",\"2023-06-19\",\"2023-06-20\",\"2023-06-21\",\"2023-06-22\",\"2023-06-25\",\"2023-06-26\",\"2023-06-28\"],\"xaxis\":\"x\",\"y\":[1.0,1.0303180090999875,0.9965072715241872,1.0380021610177894,1.0917220266653473,1.1113518046972177,1.117778561569069,1.1534056075149004,1.1805101315568098,1.236605112276326,1.2139016308284738,1.171149133044615,1.2461754100741305,1.340761414381239,1.3457912078093481,1.3498429562313938,1.3833042930130297,1.4226336865867422,1.338596025083502,1.3647922350071668,1.4630109626764898,1.5165212091719797,1.473978437162342,1.4732100113083464,1.5489347700597327,1.5511702101117473,1.56039121373754,1.4855048249722735,1.5220399717920439,1.6046805632293895,1.5902201470234194,1.5369893571899695,1.49409729100832,1.4428922154526638,1.449808048138623,1.653091285408951,1.6266854563332178,1.6417045726189627,1.6217955511693578,1.5856095918994466,1.6286414397231923,1.6688789341708437,1.6454070268689962,1.627101495972775,1.6894941141373088,1.6374420322011698,1.604533851147372,1.6046037952794965,1.6812496628074427,1.692777969816122,1.7845155633157532,1.7973714227468132,1.8095984247216688,1.8304891163305268,1.8492838296630087,1.8997988466468514,1.871012997880139,1.8536854053678289,1.8452315481301997,1.8853359781313705,1.913213619401991,1.9407417532562945,1.953877175971547,1.9181043775430722,1.8781396225618452,1.8890389654921673,1.9269079554413235,1.898261781694555,1.8511704020316218,1.8489345354909967,1.869545663815662,1.8865934797994741,1.9330564284948133,1.951501634410978,1.8937203177254853,1.8947682002415207,1.889388472908484,1.833423571215175,1.8833796748749378,1.9022443323395442,1.9387854499998618,2.019903157231211,1.9709951493317888,1.9424884373606586,1.925719971416734,2.00383327963131,2.0367415673072604,1.996217472513343,2.018156473126847,1.9967066549496038,1.9800778640256225,2.0229073430036792,2.0410731988799564,2.108496570071973,2.2132995355325793,2.1843740117459234,2.178225538692433,2.1441294802361983,2.133649375610012,2.6536117081359314,2.721104810215767,2.802501867487003,2.6434109535496324,2.7786769342378017,2.747724949818284,2.7368253936436564,2.70070330104317,2.6185991256556997,2.6909207185394814,2.7090884936145065,2.7588400959855273,2.8664489300147125,3.0044538205596094,2.9804164959823716,2.9831417582035624,3.061123068193184,3.007807940237005,3.006410337060347,2.9493915820104553,2.8391973740243284,2.926123003153671,2.8679162640791898],\"yaxis\":\"y\",\"type\":\"scatter\"},{\"hovertemplate\":\"variable=SPY_growth<br>date=%{x}<br>value=%{y}<extra></extra>\",\"legendgroup\":\"SPY_growth\",\"line\":{\"color\":\"#EF553B\",\"dash\":\"solid\"},\"marker\":{\"symbol\":\"circle\"},\"mode\":\"lines\",\"name\":\"SPY_growth\",\"orientation\":\"v\",\"showlegend\":true,\"x\":[\"2023-01-02\",\"2023-01-03\",\"2023-01-04\",\"2023-01-05\",\"2023-01-08\",\"2023-01-09\",\"2023-01-10\",\"2023-01-11\",\"2023-01-12\",\"2023-01-16\",\"2023-01-17\",\"2023-01-18\",\"2023-01-19\",\"2023-01-22\",\"2023-01-23\",\"2023-01-24\",\"2023-01-25\",\"2023-01-26\",\"2023-01-29\",\"2023-01-30\",\"2023-01-31\",\"2023-02-01\",\"2023-02-02\",\"2023-02-05\",\"2023-02-06\",\"2023-02-07\",\"2023-02-08\",\"2023-02-09\",\"2023-02-12\",\"2023-02-13\",\"2023-02-14\",\"2023-02-15\",\"2023-02-16\",\"2023-02-20\",\"2023-02-21\",\"2023-02-22\",\"2023-02-23\",\"2023-02-26\",\"2023-02-27\",\"2023-02-28\",\"2023-03-01\",\"2023-03-02\",\"2023-03-05\",\"2023-03-06\",\"2023-03-07\",\"2023-03-08\",\"2023-03-09\",\"2023-03-12\",\"2023-03-13\",\"2023-03-14\",\"2023-03-15\",\"2023-03-16\",\"2023-03-19\",\"2023-03-20\",\"2023-03-21\",\"2023-03-22\",\"2023-03-23\",\"2023-03-26\",\"2023-03-27\",\"2023-03-28\",\"2023-03-29\",\"2023-03-30\",\"2023-04-02\",\"2023-04-03\",\"2023-04-04\",\"2023-04-05\",\"2023-04-09\",\"2023-04-10\",\"2023-04-11\",\"2023-04-12\",\"2023-04-13\",\"2023-04-16\",\"2023-04-17\",\"2023-04-18\",\"2023-04-19\",\"2023-04-20\",\"2023-04-23\",\"2023-04-24\",\"2023-04-25\",\"2023-04-26\",\"2023-04-27\",\"2023-04-30\",\"2023-05-01\",\"2023-05-02\",\"2023-05-03\",\"2023-05-04\",\"2023-05-07\",\"2023-05-08\",\"2023-05-09\",\"2023-05-10\",\"2023-05-11\",\"2023-05-14\",\"2023-05-15\",\"2023-05-16\",\"2023-05-17\",\"2023-05-18\",\"2023-05-21\",\"2023-05-22\",\"2023-05-23\",\"2023-05-24\",\"2023-05-25\",\"2023-05-29\",\"2023-05-30\",\"2023-05-31\",\"2023-06-01\",\"2023-06-04\",\"2023-06-05\",\"2023-06-06\",\"2023-06-07\",\"2023-06-08\",\"2023-06-11\",\"2023-06-12\",\"2023-06-13\",\"2023-06-14\",\"2023-06-15\",\"2023-06-19\",\"2023-06-20\",\"2023-06-21\",\"2023-06-22\",\"2023-06-25\",\"2023-06-26\",\"2023-06-28\"],\"xaxis\":\"x\",\"y\":[1.0,1.007720225493853,0.99621865023423,1.0190640325677456,1.0184863297177449,1.0256288523615973,1.0386008045047093,1.0423821542704792,1.0464260742204843,1.044509198837973,1.0280183863721872,1.0205346516746516,1.0395462025020061,1.0520193358879828,1.050890171058177,1.0512840263345298,1.0628380025934054,1.065280099085526,1.0519142916660613,1.0673809027828243,1.078724709856717,1.0944277310286583,1.0827950321591957,1.0761776498838136,1.0902525259865357,1.0783309353215031,1.0689826454995697,1.0714773044732206,1.084055320598841,1.0835565018417055,1.0870752814232405,1.072107489063613,1.0694291439985921,1.0479754159379782,1.0465311184424069,1.0520980584985704,1.0408591341643214,1.0444041546160518,1.0405440822396947,1.0365526440300812,1.0446142430598957,1.0613675449687778,1.0621027737810917,1.0458221305002886,1.047528998180095,1.0282022339458359,1.013365888160604,1.0119215906650327,1.028648651703719,1.0222151170019849,1.040150146222203,1.0279879469627606,1.0378726809126333,1.0515004933283598,1.033576121938498,1.036370249796936,1.043170995199132,1.0451215396366327,1.042775605841137,1.0579321709838954,1.0641266311728619,1.0791251051653334,1.0832371706367083,1.0772272846916413,1.0744068352218685,1.0785979462683868,1.079704988026089,1.0799949294564666,1.075592922554714,1.0898797441474783,1.087217385827992,1.0911186361852718,1.0918302885849793,1.0916457950822187,1.0856886331009603,1.0865321357807587,1.087665579890935,1.070400136936972,1.0658662797551284,1.0870856162890405,1.0963640650256838,1.0952570232679815,1.0829472292063307,1.075513876979571,1.0678960312500505,1.087665579890935,1.0879554405801737,1.0831844466729,1.0882454627516904,1.0863475615368592,1.0849241759963053,1.0886671737210198,1.0813919933856857,1.0945189685157999,1.1050627116427103,1.1034547518582567,1.1039029459211993,1.0915140255432663,1.0836061576422291,1.0929901350476288,1.107145025619163,1.1075668173296316,1.1014251618456128,1.111889778656241,1.1279689727950801,1.125807532502345,1.128258914225458,1.1243576638681785,1.1311584900115133,1.1331880800241574,1.143468203332025,1.1510070034864022,1.1523776650631474,1.1666644866559117,1.1626905692734748,1.156658318032887,1.150731918425612,1.1548857270658828,1.1461547839932302,1.141471878668675,1.1539861900355741,1.1515785700098338],\"yaxis\":\"y\",\"type\":\"scatter\"}],                        {\"template\":{\"data\":{\"histogram2dcontour\":[{\"type\":\"histogram2dcontour\",\"colorbar\":{\"outlinewidth\":0,\"ticks\":\"\"},\"colorscale\":[[0.0,\"#0d0887\"],[0.1111111111111111,\"#46039f\"],[0.2222222222222222,\"#7201a8\"],[0.3333333333333333,\"#9c179e\"],[0.4444444444444444,\"#bd3786\"],[0.5555555555555556,\"#d8576b\"],[0.6666666666666666,\"#ed7953\"],[0.7777777777777778,\"#fb9f3a\"],[0.8888888888888888,\"#fdca26\"],[1.0,\"#f0f921\"]]}],\"choropleth\":[{\"type\":\"choropleth\",\"colorbar\":{\"outlinewidth\":0,\"ticks\":\"\"}}],\"histogram2d\":[{\"type\":\"histogram2d\",\"colorbar\":{\"outlinewidth\":0,\"ticks\":\"\"},\"colorscale\":[[0.0,\"#0d0887\"],[0.1111111111111111,\"#46039f\"],[0.2222222222222222,\"#7201a8\"],[0.3333333333333333,\"#9c179e\"],[0.4444444444444444,\"#bd3786\"],[0.5555555555555556,\"#d8576b\"],[0.6666666666666666,\"#ed7953\"],[0.7777777777777778,\"#fb9f3a\"],[0.8888888888888888,\"#fdca26\"],[1.0,\"#f0f921\"]]}],\"heatmap\":[{\"type\":\"heatmap\",\"colorbar\":{\"outlinewidth\":0,\"ticks\":\"\"},\"colorscale\":[[0.0,\"#0d0887\"],[0.1111111111111111,\"#46039f\"],[0.2222222222222222,\"#7201a8\"],[0.3333333333333333,\"#9c179e\"],[0.4444444444444444,\"#bd3786\"],[0.5555555555555556,\"#d8576b\"],[0.6666666666666666,\"#ed7953\"],[0.7777777777777778,\"#fb9f3a\"],[0.8888888888888888,\"#fdca26\"],[1.0,\"#f0f921\"]]}],\"heatmapgl\":[{\"type\":\"heatmapgl\",\"colorbar\":{\"outlinewidth\":0,\"ticks\":\"\"},\"colorscale\":[[0.0,\"#0d0887\"],[0.1111111111111111,\"#46039f\"],[0.2222222222222222,\"#7201a8\"],[0.3333333333333333,\"#9c179e\"],[0.4444444444444444,\"#bd3786\"],[0.5555555555555556,\"#d8576b\"],[0.6666666666666666,\"#ed7953\"],[0.7777777777777778,\"#fb9f3a\"],[0.8888888888888888,\"#fdca26\"],[1.0,\"#f0f921\"]]}],\"contourcarpet\":[{\"type\":\"contourcarpet\",\"colorbar\":{\"outlinewidth\":0,\"ticks\":\"\"}}],\"contour\":[{\"type\":\"contour\",\"colorbar\":{\"outlinewidth\":0,\"ticks\":\"\"},\"colorscale\":[[0.0,\"#0d0887\"],[0.1111111111111111,\"#46039f\"],[0.2222222222222222,\"#7201a8\"],[0.3333333333333333,\"#9c179e\"],[0.4444444444444444,\"#bd3786\"],[0.5555555555555556,\"#d8576b\"],[0.6666666666666666,\"#ed7953\"],[0.7777777777777778,\"#fb9f3a\"],[0.8888888888888888,\"#fdca26\"],[1.0,\"#f0f921\"]]}],\"surface\":[{\"type\":\"surface\",\"colorbar\":{\"outlinewidth\":0,\"ticks\":\"\"},\"colorscale\":[[0.0,\"#0d0887\"],[0.1111111111111111,\"#46039f\"],[0.2222222222222222,\"#7201a8\"],[0.3333333333333333,\"#9c179e\"],[0.4444444444444444,\"#bd3786\"],[0.5555555555555556,\"#d8576b\"],[0.6666666666666666,\"#ed7953\"],[0.7777777777777778,\"#fb9f3a\"],[0.8888888888888888,\"#fdca26\"],[1.0,\"#f0f921\"]]}],\"mesh3d\":[{\"type\":\"mesh3d\",\"colorbar\":{\"outlinewidth\":0,\"ticks\":\"\"}}],\"scatter\":[{\"fillpattern\":{\"fillmode\":\"overlay\",\"size\":10,\"solidity\":0.2},\"type\":\"scatter\"}],\"parcoords\":[{\"type\":\"parcoords\",\"line\":{\"colorbar\":{\"outlinewidth\":0,\"ticks\":\"\"}}}],\"scatterpolargl\":[{\"type\":\"scatterpolargl\",\"marker\":{\"colorbar\":{\"outlinewidth\":0,\"ticks\":\"\"}}}],\"bar\":[{\"error_x\":{\"color\":\"#2a3f5f\"},\"error_y\":{\"color\":\"#2a3f5f\"},\"marker\":{\"line\":{\"color\":\"#E5ECF6\",\"width\":0.5},\"pattern\":{\"fillmode\":\"overlay\",\"size\":10,\"solidity\":0.2}},\"type\":\"bar\"}],\"scattergeo\":[{\"type\":\"scattergeo\",\"marker\":{\"colorbar\":{\"outlinewidth\":0,\"ticks\":\"\"}}}],\"scatterpolar\":[{\"type\":\"scatterpolar\",\"marker\":{\"colorbar\":{\"outlinewidth\":0,\"ticks\":\"\"}}}],\"histogram\":[{\"marker\":{\"pattern\":{\"fillmode\":\"overlay\",\"size\":10,\"solidity\":0.2}},\"type\":\"histogram\"}],\"scattergl\":[{\"type\":\"scattergl\",\"marker\":{\"colorbar\":{\"outlinewidth\":0,\"ticks\":\"\"}}}],\"scatter3d\":[{\"type\":\"scatter3d\",\"line\":{\"colorbar\":{\"outlinewidth\":0,\"ticks\":\"\"}},\"marker\":{\"colorbar\":{\"outlinewidth\":0,\"ticks\":\"\"}}}],\"scattermapbox\":[{\"type\":\"scattermapbox\",\"marker\":{\"colorbar\":{\"outlinewidth\":0,\"ticks\":\"\"}}}],\"scatterternary\":[{\"type\":\"scatterternary\",\"marker\":{\"colorbar\":{\"outlinewidth\":0,\"ticks\":\"\"}}}],\"scattercarpet\":[{\"type\":\"scattercarpet\",\"marker\":{\"colorbar\":{\"outlinewidth\":0,\"ticks\":\"\"}}}],\"carpet\":[{\"aaxis\":{\"endlinecolor\":\"#2a3f5f\",\"gridcolor\":\"white\",\"linecolor\":\"white\",\"minorgridcolor\":\"white\",\"startlinecolor\":\"#2a3f5f\"},\"baxis\":{\"endlinecolor\":\"#2a3f5f\",\"gridcolor\":\"white\",\"linecolor\":\"white\",\"minorgridcolor\":\"white\",\"startlinecolor\":\"#2a3f5f\"},\"type\":\"carpet\"}],\"table\":[{\"cells\":{\"fill\":{\"color\":\"#EBF0F8\"},\"line\":{\"color\":\"white\"}},\"header\":{\"fill\":{\"color\":\"#C8D4E3\"},\"line\":{\"color\":\"white\"}},\"type\":\"table\"}],\"barpolar\":[{\"marker\":{\"line\":{\"color\":\"#E5ECF6\",\"width\":0.5},\"pattern\":{\"fillmode\":\"overlay\",\"size\":10,\"solidity\":0.2}},\"type\":\"barpolar\"}],\"pie\":[{\"automargin\":true,\"type\":\"pie\"}]},\"layout\":{\"autotypenumbers\":\"strict\",\"colorway\":[\"#636efa\",\"#EF553B\",\"#00cc96\",\"#ab63fa\",\"#FFA15A\",\"#19d3f3\",\"#FF6692\",\"#B6E880\",\"#FF97FF\",\"#FECB52\"],\"font\":{\"color\":\"#2a3f5f\"},\"hovermode\":\"closest\",\"hoverlabel\":{\"align\":\"left\"},\"paper_bgcolor\":\"white\",\"plot_bgcolor\":\"#E5ECF6\",\"polar\":{\"bgcolor\":\"#E5ECF6\",\"angularaxis\":{\"gridcolor\":\"white\",\"linecolor\":\"white\",\"ticks\":\"\"},\"radialaxis\":{\"gridcolor\":\"white\",\"linecolor\":\"white\",\"ticks\":\"\"}},\"ternary\":{\"bgcolor\":\"#E5ECF6\",\"aaxis\":{\"gridcolor\":\"white\",\"linecolor\":\"white\",\"ticks\":\"\"},\"baxis\":{\"gridcolor\":\"white\",\"linecolor\":\"white\",\"ticks\":\"\"},\"caxis\":{\"gridcolor\":\"white\",\"linecolor\":\"white\",\"ticks\":\"\"}},\"coloraxis\":{\"colorbar\":{\"outlinewidth\":0,\"ticks\":\"\"}},\"colorscale\":{\"sequential\":[[0.0,\"#0d0887\"],[0.1111111111111111,\"#46039f\"],[0.2222222222222222,\"#7201a8\"],[0.3333333333333333,\"#9c179e\"],[0.4444444444444444,\"#bd3786\"],[0.5555555555555556,\"#d8576b\"],[0.6666666666666666,\"#ed7953\"],[0.7777777777777778,\"#fb9f3a\"],[0.8888888888888888,\"#fdca26\"],[1.0,\"#f0f921\"]],\"sequentialminus\":[[0.0,\"#0d0887\"],[0.1111111111111111,\"#46039f\"],[0.2222222222222222,\"#7201a8\"],[0.3333333333333333,\"#9c179e\"],[0.4444444444444444,\"#bd3786\"],[0.5555555555555556,\"#d8576b\"],[0.6666666666666666,\"#ed7953\"],[0.7777777777777778,\"#fb9f3a\"],[0.8888888888888888,\"#fdca26\"],[1.0,\"#f0f921\"]],\"diverging\":[[0,\"#8e0152\"],[0.1,\"#c51b7d\"],[0.2,\"#de77ae\"],[0.3,\"#f1b6da\"],[0.4,\"#fde0ef\"],[0.5,\"#f7f7f7\"],[0.6,\"#e6f5d0\"],[0.7,\"#b8e186\"],[0.8,\"#7fbc41\"],[0.9,\"#4d9221\"],[1,\"#276419\"]]},\"xaxis\":{\"gridcolor\":\"white\",\"linecolor\":\"white\",\"ticks\":\"\",\"title\":{\"standoff\":15},\"zerolinecolor\":\"white\",\"automargin\":true,\"zerolinewidth\":2},\"yaxis\":{\"gridcolor\":\"white\",\"linecolor\":\"white\",\"ticks\":\"\",\"title\":{\"standoff\":15},\"zerolinecolor\":\"white\",\"automargin\":true,\"zerolinewidth\":2},\"scene\":{\"xaxis\":{\"backgroundcolor\":\"#E5ECF6\",\"gridcolor\":\"white\",\"linecolor\":\"white\",\"showbackground\":true,\"ticks\":\"\",\"zerolinecolor\":\"white\",\"gridwidth\":2},\"yaxis\":{\"backgroundcolor\":\"#E5ECF6\",\"gridcolor\":\"white\",\"linecolor\":\"white\",\"showbackground\":true,\"ticks\":\"\",\"zerolinecolor\":\"white\",\"gridwidth\":2},\"zaxis\":{\"backgroundcolor\":\"#E5ECF6\",\"gridcolor\":\"white\",\"linecolor\":\"white\",\"showbackground\":true,\"ticks\":\"\",\"zerolinecolor\":\"white\",\"gridwidth\":2}},\"shapedefaults\":{\"line\":{\"color\":\"#2a3f5f\"}},\"annotationdefaults\":{\"arrowcolor\":\"#2a3f5f\",\"arrowhead\":0,\"arrowwidth\":1},\"geo\":{\"bgcolor\":\"white\",\"landcolor\":\"#E5ECF6\",\"subunitcolor\":\"white\",\"showland\":true,\"showlakes\":true,\"lakecolor\":\"white\"},\"title\":{\"x\":0.05},\"mapbox\":{\"style\":\"light\"}}},\"xaxis\":{\"anchor\":\"y\",\"domain\":[0.0,1.0],\"title\":{\"text\":\"date\"}},\"yaxis\":{\"anchor\":\"x\",\"domain\":[0.0,1.0],\"title\":{\"text\":\"value\"}},\"legend\":{\"title\":{\"text\":\"variable\"},\"tracegroupgap\":0},\"title\":{\"text\":\"Stock Performance (NVDA vs Market)\"},\"height\":350},                        {\"responsive\": true}                    ).then(function(){\n",
              "                            \n",
              "var gd = document.getElementById('9f33b637-09c7-42a3-adba-f53ff4f3b5ac');\n",
              "var x = new MutationObserver(function (mutations, observer) {{\n",
              "        var display = window.getComputedStyle(gd).display;\n",
              "        if (!display || display === 'none') {{\n",
              "            console.log([gd, 'removed!']);\n",
              "            Plotly.purge(gd);\n",
              "            observer.disconnect();\n",
              "        }}\n",
              "}});\n",
              "\n",
              "// Listen for the removal of the full notebook cells\n",
              "var notebookContainer = gd.closest('#notebook-container');\n",
              "if (notebookContainer) {{\n",
              "    x.observe(notebookContainer, {childList: true});\n",
              "}}\n",
              "\n",
              "// Listen for the clearing of the current output cell\n",
              "var outputEl = gd.closest('.output');\n",
              "if (outputEl) {{\n",
              "    x.observe(outputEl, {childList: true});\n",
              "}}\n",
              "\n",
              "                        })                };                            </script>        </div>\n",
              "</body>\n",
              "</html>"
            ]
          },
          "metadata": {}
        }
      ]
    },
    {
      "cell_type": "markdown",
      "source": [
        "## Correlation"
      ],
      "metadata": {
        "id": "sDXJ6LdZSlY5"
      }
    },
    {
      "cell_type": "markdown",
      "source": [
        "We have previously covered correlation. While we have the stock and market data, let's take a brief detour to measure correlation between stocks."
      ],
      "metadata": {
        "id": "1Bxkz3VpSuDM"
      }
    },
    {
      "cell_type": "code",
      "source": [
        "cor_mat = prices_pivot.corr(method=\"spearman\")\n",
        "cor_mat"
      ],
      "metadata": {
        "colab": {
          "base_uri": "https://localhost:8080/",
          "height": 394
        },
        "id": "0LxOOqZ1dknJ",
        "outputId": "7416fbe4-4d25-4fa3-9d19-6949e9f5eb8b"
      },
      "execution_count": null,
      "outputs": [
        {
          "output_type": "execute_result",
          "data": {
            "text/plain": [
              "symbol      AAPL      AMZN       BAC     GOOGL       JPM      META      MSFT  \\\n",
              "symbol                                                                         \n",
              "AAPL    1.000000  0.904671 -0.636262  0.918896  0.152092  0.985341  0.988760   \n",
              "AMZN    0.904671  1.000000 -0.444990  0.934260  0.244937  0.890020  0.908816   \n",
              "BAC    -0.636262 -0.444990  1.000000 -0.560445  0.557958 -0.648159 -0.638454   \n",
              "GOOGL   0.918896  0.934260 -0.560445  1.000000  0.107742  0.925069  0.932449   \n",
              "JPM     0.152092  0.244937  0.557958  0.107742  1.000000  0.117045  0.128449   \n",
              "META    0.985341  0.890020 -0.648159  0.925069  0.117045  1.000000  0.984685   \n",
              "MSFT    0.988760  0.908816 -0.638454  0.932449  0.128449  0.984685  1.000000   \n",
              "NFLX    0.555667  0.736183  0.041643  0.663482  0.433191  0.531746  0.573960   \n",
              "NVDA    0.976935  0.857444 -0.679392  0.887338  0.105667  0.977969  0.974154   \n",
              "SPY     0.874825  0.921919 -0.257021  0.878677  0.456754  0.855487  0.873997   \n",
              "\n",
              "symbol      NFLX      NVDA       SPY  \n",
              "symbol                                \n",
              "AAPL    0.555667  0.976935  0.874825  \n",
              "AMZN    0.736183  0.857444  0.921919  \n",
              "BAC     0.041643 -0.679392 -0.257021  \n",
              "GOOGL   0.663482  0.887338  0.878677  \n",
              "JPM     0.433191  0.105667  0.456754  \n",
              "META    0.531746  0.977969  0.855487  \n",
              "MSFT    0.573960  0.974154  0.873997  \n",
              "NFLX    1.000000  0.494615  0.785188  \n",
              "NVDA    0.494615  1.000000  0.817509  \n",
              "SPY     0.785188  0.817509  1.000000  "
            ],
            "text/html": [
              "\n",
              "  <div id=\"df-6773efb3-899d-495a-b4be-45cf6ef0aec6\">\n",
              "    <div class=\"colab-df-container\">\n",
              "      <div>\n",
              "<style scoped>\n",
              "    .dataframe tbody tr th:only-of-type {\n",
              "        vertical-align: middle;\n",
              "    }\n",
              "\n",
              "    .dataframe tbody tr th {\n",
              "        vertical-align: top;\n",
              "    }\n",
              "\n",
              "    .dataframe thead th {\n",
              "        text-align: right;\n",
              "    }\n",
              "</style>\n",
              "<table border=\"1\" class=\"dataframe\">\n",
              "  <thead>\n",
              "    <tr style=\"text-align: right;\">\n",
              "      <th>symbol</th>\n",
              "      <th>AAPL</th>\n",
              "      <th>AMZN</th>\n",
              "      <th>BAC</th>\n",
              "      <th>GOOGL</th>\n",
              "      <th>JPM</th>\n",
              "      <th>META</th>\n",
              "      <th>MSFT</th>\n",
              "      <th>NFLX</th>\n",
              "      <th>NVDA</th>\n",
              "      <th>SPY</th>\n",
              "    </tr>\n",
              "    <tr>\n",
              "      <th>symbol</th>\n",
              "      <th></th>\n",
              "      <th></th>\n",
              "      <th></th>\n",
              "      <th></th>\n",
              "      <th></th>\n",
              "      <th></th>\n",
              "      <th></th>\n",
              "      <th></th>\n",
              "      <th></th>\n",
              "      <th></th>\n",
              "    </tr>\n",
              "  </thead>\n",
              "  <tbody>\n",
              "    <tr>\n",
              "      <th>AAPL</th>\n",
              "      <td>1.000000</td>\n",
              "      <td>0.904671</td>\n",
              "      <td>-0.636262</td>\n",
              "      <td>0.918896</td>\n",
              "      <td>0.152092</td>\n",
              "      <td>0.985341</td>\n",
              "      <td>0.988760</td>\n",
              "      <td>0.555667</td>\n",
              "      <td>0.976935</td>\n",
              "      <td>0.874825</td>\n",
              "    </tr>\n",
              "    <tr>\n",
              "      <th>AMZN</th>\n",
              "      <td>0.904671</td>\n",
              "      <td>1.000000</td>\n",
              "      <td>-0.444990</td>\n",
              "      <td>0.934260</td>\n",
              "      <td>0.244937</td>\n",
              "      <td>0.890020</td>\n",
              "      <td>0.908816</td>\n",
              "      <td>0.736183</td>\n",
              "      <td>0.857444</td>\n",
              "      <td>0.921919</td>\n",
              "    </tr>\n",
              "    <tr>\n",
              "      <th>BAC</th>\n",
              "      <td>-0.636262</td>\n",
              "      <td>-0.444990</td>\n",
              "      <td>1.000000</td>\n",
              "      <td>-0.560445</td>\n",
              "      <td>0.557958</td>\n",
              "      <td>-0.648159</td>\n",
              "      <td>-0.638454</td>\n",
              "      <td>0.041643</td>\n",
              "      <td>-0.679392</td>\n",
              "      <td>-0.257021</td>\n",
              "    </tr>\n",
              "    <tr>\n",
              "      <th>GOOGL</th>\n",
              "      <td>0.918896</td>\n",
              "      <td>0.934260</td>\n",
              "      <td>-0.560445</td>\n",
              "      <td>1.000000</td>\n",
              "      <td>0.107742</td>\n",
              "      <td>0.925069</td>\n",
              "      <td>0.932449</td>\n",
              "      <td>0.663482</td>\n",
              "      <td>0.887338</td>\n",
              "      <td>0.878677</td>\n",
              "    </tr>\n",
              "    <tr>\n",
              "      <th>JPM</th>\n",
              "      <td>0.152092</td>\n",
              "      <td>0.244937</td>\n",
              "      <td>0.557958</td>\n",
              "      <td>0.107742</td>\n",
              "      <td>1.000000</td>\n",
              "      <td>0.117045</td>\n",
              "      <td>0.128449</td>\n",
              "      <td>0.433191</td>\n",
              "      <td>0.105667</td>\n",
              "      <td>0.456754</td>\n",
              "    </tr>\n",
              "    <tr>\n",
              "      <th>META</th>\n",
              "      <td>0.985341</td>\n",
              "      <td>0.890020</td>\n",
              "      <td>-0.648159</td>\n",
              "      <td>0.925069</td>\n",
              "      <td>0.117045</td>\n",
              "      <td>1.000000</td>\n",
              "      <td>0.984685</td>\n",
              "      <td>0.531746</td>\n",
              "      <td>0.977969</td>\n",
              "      <td>0.855487</td>\n",
              "    </tr>\n",
              "    <tr>\n",
              "      <th>MSFT</th>\n",
              "      <td>0.988760</td>\n",
              "      <td>0.908816</td>\n",
              "      <td>-0.638454</td>\n",
              "      <td>0.932449</td>\n",
              "      <td>0.128449</td>\n",
              "      <td>0.984685</td>\n",
              "      <td>1.000000</td>\n",
              "      <td>0.573960</td>\n",
              "      <td>0.974154</td>\n",
              "      <td>0.873997</td>\n",
              "    </tr>\n",
              "    <tr>\n",
              "      <th>NFLX</th>\n",
              "      <td>0.555667</td>\n",
              "      <td>0.736183</td>\n",
              "      <td>0.041643</td>\n",
              "      <td>0.663482</td>\n",
              "      <td>0.433191</td>\n",
              "      <td>0.531746</td>\n",
              "      <td>0.573960</td>\n",
              "      <td>1.000000</td>\n",
              "      <td>0.494615</td>\n",
              "      <td>0.785188</td>\n",
              "    </tr>\n",
              "    <tr>\n",
              "      <th>NVDA</th>\n",
              "      <td>0.976935</td>\n",
              "      <td>0.857444</td>\n",
              "      <td>-0.679392</td>\n",
              "      <td>0.887338</td>\n",
              "      <td>0.105667</td>\n",
              "      <td>0.977969</td>\n",
              "      <td>0.974154</td>\n",
              "      <td>0.494615</td>\n",
              "      <td>1.000000</td>\n",
              "      <td>0.817509</td>\n",
              "    </tr>\n",
              "    <tr>\n",
              "      <th>SPY</th>\n",
              "      <td>0.874825</td>\n",
              "      <td>0.921919</td>\n",
              "      <td>-0.257021</td>\n",
              "      <td>0.878677</td>\n",
              "      <td>0.456754</td>\n",
              "      <td>0.855487</td>\n",
              "      <td>0.873997</td>\n",
              "      <td>0.785188</td>\n",
              "      <td>0.817509</td>\n",
              "      <td>1.000000</td>\n",
              "    </tr>\n",
              "  </tbody>\n",
              "</table>\n",
              "</div>\n",
              "      <button class=\"colab-df-convert\" onclick=\"convertToInteractive('df-6773efb3-899d-495a-b4be-45cf6ef0aec6')\"\n",
              "              title=\"Convert this dataframe to an interactive table.\"\n",
              "              style=\"display:none;\">\n",
              "        \n",
              "  <svg xmlns=\"http://www.w3.org/2000/svg\" height=\"24px\"viewBox=\"0 0 24 24\"\n",
              "       width=\"24px\">\n",
              "    <path d=\"M0 0h24v24H0V0z\" fill=\"none\"/>\n",
              "    <path d=\"M18.56 5.44l.94 2.06.94-2.06 2.06-.94-2.06-.94-.94-2.06-.94 2.06-2.06.94zm-11 1L8.5 8.5l.94-2.06 2.06-.94-2.06-.94L8.5 2.5l-.94 2.06-2.06.94zm10 10l.94 2.06.94-2.06 2.06-.94-2.06-.94-.94-2.06-.94 2.06-2.06.94z\"/><path d=\"M17.41 7.96l-1.37-1.37c-.4-.4-.92-.59-1.43-.59-.52 0-1.04.2-1.43.59L10.3 9.45l-7.72 7.72c-.78.78-.78 2.05 0 2.83L4 21.41c.39.39.9.59 1.41.59.51 0 1.02-.2 1.41-.59l7.78-7.78 2.81-2.81c.8-.78.8-2.07 0-2.86zM5.41 20L4 18.59l7.72-7.72 1.47 1.35L5.41 20z\"/>\n",
              "  </svg>\n",
              "      </button>\n",
              "      \n",
              "  <style>\n",
              "    .colab-df-container {\n",
              "      display:flex;\n",
              "      flex-wrap:wrap;\n",
              "      gap: 12px;\n",
              "    }\n",
              "\n",
              "    .colab-df-convert {\n",
              "      background-color: #E8F0FE;\n",
              "      border: none;\n",
              "      border-radius: 50%;\n",
              "      cursor: pointer;\n",
              "      display: none;\n",
              "      fill: #1967D2;\n",
              "      height: 32px;\n",
              "      padding: 0 0 0 0;\n",
              "      width: 32px;\n",
              "    }\n",
              "\n",
              "    .colab-df-convert:hover {\n",
              "      background-color: #E2EBFA;\n",
              "      box-shadow: 0px 1px 2px rgba(60, 64, 67, 0.3), 0px 1px 3px 1px rgba(60, 64, 67, 0.15);\n",
              "      fill: #174EA6;\n",
              "    }\n",
              "\n",
              "    [theme=dark] .colab-df-convert {\n",
              "      background-color: #3B4455;\n",
              "      fill: #D2E3FC;\n",
              "    }\n",
              "\n",
              "    [theme=dark] .colab-df-convert:hover {\n",
              "      background-color: #434B5C;\n",
              "      box-shadow: 0px 1px 3px 1px rgba(0, 0, 0, 0.15);\n",
              "      filter: drop-shadow(0px 1px 2px rgba(0, 0, 0, 0.3));\n",
              "      fill: #FFFFFF;\n",
              "    }\n",
              "  </style>\n",
              "\n",
              "      <script>\n",
              "        const buttonEl =\n",
              "          document.querySelector('#df-6773efb3-899d-495a-b4be-45cf6ef0aec6 button.colab-df-convert');\n",
              "        buttonEl.style.display =\n",
              "          google.colab.kernel.accessAllowed ? 'block' : 'none';\n",
              "\n",
              "        async function convertToInteractive(key) {\n",
              "          const element = document.querySelector('#df-6773efb3-899d-495a-b4be-45cf6ef0aec6');\n",
              "          const dataTable =\n",
              "            await google.colab.kernel.invokeFunction('convertToInteractive',\n",
              "                                                     [key], {});\n",
              "          if (!dataTable) return;\n",
              "\n",
              "          const docLinkHtml = 'Like what you see? Visit the ' +\n",
              "            '<a target=\"_blank\" href=https://colab.research.google.com/notebooks/data_table.ipynb>data table notebook</a>'\n",
              "            + ' to learn more about interactive tables.';\n",
              "          element.innerHTML = '';\n",
              "          dataTable['output_type'] = 'display_data';\n",
              "          await google.colab.output.renderOutput(dataTable, element);\n",
              "          const docLink = document.createElement('div');\n",
              "          docLink.innerHTML = docLinkHtml;\n",
              "          element.appendChild(docLink);\n",
              "        }\n",
              "      </script>\n",
              "    </div>\n",
              "  </div>\n",
              "  "
            ]
          },
          "metadata": {},
          "execution_count": 8
        }
      ]
    },
    {
      "cell_type": "code",
      "source": [
        "# https://plotly.com/python/heatmaps/\n",
        "# https://plotly.com/python-api-reference/generated/plotly.express.imshow.html\n",
        "import plotly.express as px\n",
        "\n",
        "title = f\"Spearman Correlation between Stock Prices (from {earliest_date} to {latest_date})\"\n",
        "fig = px.imshow(cor_mat,\n",
        "          height=750, # title=title,\n",
        "          text_auto= \".2f\", #True,\n",
        "          color_continuous_scale=\"Greens\",\n",
        "          color_continuous_midpoint=0\n",
        ")\n",
        "fig.update_layout(title={'text': title, 'x':0.485, 'xanchor': 'center'}) # https://stackoverflow.com/questions/64571789/center-plotly-title-by-default\n",
        "fig.show()"
      ],
      "metadata": {
        "colab": {
          "base_uri": "https://localhost:8080/",
          "height": 767
        },
        "id": "z41ZxGpMe2S8",
        "outputId": "d3f34bd7-5819-47b1-ed75-a7065edee73c"
      },
      "execution_count": null,
      "outputs": [
        {
          "output_type": "display_data",
          "data": {
            "text/html": [
              "<html>\n",
              "<head><meta charset=\"utf-8\" /></head>\n",
              "<body>\n",
              "    <div>            <script src=\"https://cdnjs.cloudflare.com/ajax/libs/mathjax/2.7.5/MathJax.js?config=TeX-AMS-MML_SVG\"></script><script type=\"text/javascript\">if (window.MathJax && window.MathJax.Hub && window.MathJax.Hub.Config) {window.MathJax.Hub.Config({SVG: {font: \"STIX-Web\"}});}</script>                <script type=\"text/javascript\">window.PlotlyConfig = {MathJaxConfig: 'local'};</script>\n",
              "        <script src=\"https://cdn.plot.ly/plotly-2.18.2.min.js\"></script>                <div id=\"1dcec43e-2362-4c83-973a-9114593b87ea\" class=\"plotly-graph-div\" style=\"height:750px; width:100%;\"></div>            <script type=\"text/javascript\">                                    window.PLOTLYENV=window.PLOTLYENV || {};                                    if (document.getElementById(\"1dcec43e-2362-4c83-973a-9114593b87ea\")) {                    Plotly.newPlot(                        \"1dcec43e-2362-4c83-973a-9114593b87ea\",                        [{\"coloraxis\":\"coloraxis\",\"name\":\"0\",\"texttemplate\":\"%{z:.2f}\",\"x\":[\"AAPL\",\"AMZN\",\"BAC\",\"GOOGL\",\"JPM\",\"META\",\"MSFT\",\"NFLX\",\"NVDA\",\"SPY\"],\"y\":[\"AAPL\",\"AMZN\",\"BAC\",\"GOOGL\",\"JPM\",\"META\",\"MSFT\",\"NFLX\",\"NVDA\",\"SPY\"],\"z\":[[1.0,0.9046707168585424,-0.6362623981394618,0.9188959660410123,0.1520924860841714,0.985341303751582,0.988759812240812,0.5556671733557533,0.976934769683478,0.8748246560461614],[0.9046707168585424,1.0,-0.4449898717078588,0.9342603546589249,0.24493670258775785,0.8900203060290814,0.9088163373207323,0.7361827767791808,0.85744356380468,0.9219185777542793],[-0.6362623981394618,-0.4449898717078588,1.0,-0.5604447895871851,0.5579579401078845,-0.6481586430571145,-0.6384538872882025,0.04164332862720386,-0.6793923022090624,-0.25702125129725684],[0.9188959660410123,0.9342603546589249,-0.5604447895871851,1.0,0.10774179904029851,0.9250687749500244,0.9324494907975156,0.6634822392115863,0.8873383484789037,0.8786770780515607],[0.1520924860841714,0.24493670258775785,0.5579579401078845,0.10774179904029851,1.0,0.11704505838224809,0.12844864334431158,0.43319085518815015,0.10566734794153326,0.45675420248151855],[0.985341303751582,0.8900203060290814,-0.6481586430571145,0.9250687749500244,0.11704505838224809,1.0,0.9846853887485992,0.5317460842009073,0.9779690701262832,0.8554868407368109],[0.988759812240812,0.9088163373207323,-0.6384538872882025,0.9324494907975156,0.12844864334431158,0.9846853887485992,1.0,0.5739597945289135,0.9741540972948044,0.8739970920626529],[0.5556671733557533,0.7361827767791808,0.04164332862720386,0.6634822392115863,0.43319085518815015,0.5317460842009073,0.5739597945289135,1.0,0.4946153769897,0.7851880490592155],[0.976934769683478,0.85744356380468,-0.6793923022090624,0.8873383484789037,0.10566734794153326,0.9779690701262832,0.9741540972948044,0.4946153769897,1.0,0.8175090583762094],[0.8748246560461614,0.9219185777542793,-0.25702125129725684,0.8786770780515607,0.45675420248151855,0.8554868407368109,0.8739970920626529,0.7851880490592155,0.8175090583762094,1.0]],\"type\":\"heatmap\",\"xaxis\":\"x\",\"yaxis\":\"y\",\"hovertemplate\":\"symbol: %{x}<br>symbol: %{y}<br>color: %{z}<extra></extra>\"}],                        {\"template\":{\"data\":{\"histogram2dcontour\":[{\"type\":\"histogram2dcontour\",\"colorbar\":{\"outlinewidth\":0,\"ticks\":\"\"},\"colorscale\":[[0.0,\"#0d0887\"],[0.1111111111111111,\"#46039f\"],[0.2222222222222222,\"#7201a8\"],[0.3333333333333333,\"#9c179e\"],[0.4444444444444444,\"#bd3786\"],[0.5555555555555556,\"#d8576b\"],[0.6666666666666666,\"#ed7953\"],[0.7777777777777778,\"#fb9f3a\"],[0.8888888888888888,\"#fdca26\"],[1.0,\"#f0f921\"]]}],\"choropleth\":[{\"type\":\"choropleth\",\"colorbar\":{\"outlinewidth\":0,\"ticks\":\"\"}}],\"histogram2d\":[{\"type\":\"histogram2d\",\"colorbar\":{\"outlinewidth\":0,\"ticks\":\"\"},\"colorscale\":[[0.0,\"#0d0887\"],[0.1111111111111111,\"#46039f\"],[0.2222222222222222,\"#7201a8\"],[0.3333333333333333,\"#9c179e\"],[0.4444444444444444,\"#bd3786\"],[0.5555555555555556,\"#d8576b\"],[0.6666666666666666,\"#ed7953\"],[0.7777777777777778,\"#fb9f3a\"],[0.8888888888888888,\"#fdca26\"],[1.0,\"#f0f921\"]]}],\"heatmap\":[{\"type\":\"heatmap\",\"colorbar\":{\"outlinewidth\":0,\"ticks\":\"\"},\"colorscale\":[[0.0,\"#0d0887\"],[0.1111111111111111,\"#46039f\"],[0.2222222222222222,\"#7201a8\"],[0.3333333333333333,\"#9c179e\"],[0.4444444444444444,\"#bd3786\"],[0.5555555555555556,\"#d8576b\"],[0.6666666666666666,\"#ed7953\"],[0.7777777777777778,\"#fb9f3a\"],[0.8888888888888888,\"#fdca26\"],[1.0,\"#f0f921\"]]}],\"heatmapgl\":[{\"type\":\"heatmapgl\",\"colorbar\":{\"outlinewidth\":0,\"ticks\":\"\"},\"colorscale\":[[0.0,\"#0d0887\"],[0.1111111111111111,\"#46039f\"],[0.2222222222222222,\"#7201a8\"],[0.3333333333333333,\"#9c179e\"],[0.4444444444444444,\"#bd3786\"],[0.5555555555555556,\"#d8576b\"],[0.6666666666666666,\"#ed7953\"],[0.7777777777777778,\"#fb9f3a\"],[0.8888888888888888,\"#fdca26\"],[1.0,\"#f0f921\"]]}],\"contourcarpet\":[{\"type\":\"contourcarpet\",\"colorbar\":{\"outlinewidth\":0,\"ticks\":\"\"}}],\"contour\":[{\"type\":\"contour\",\"colorbar\":{\"outlinewidth\":0,\"ticks\":\"\"},\"colorscale\":[[0.0,\"#0d0887\"],[0.1111111111111111,\"#46039f\"],[0.2222222222222222,\"#7201a8\"],[0.3333333333333333,\"#9c179e\"],[0.4444444444444444,\"#bd3786\"],[0.5555555555555556,\"#d8576b\"],[0.6666666666666666,\"#ed7953\"],[0.7777777777777778,\"#fb9f3a\"],[0.8888888888888888,\"#fdca26\"],[1.0,\"#f0f921\"]]}],\"surface\":[{\"type\":\"surface\",\"colorbar\":{\"outlinewidth\":0,\"ticks\":\"\"},\"colorscale\":[[0.0,\"#0d0887\"],[0.1111111111111111,\"#46039f\"],[0.2222222222222222,\"#7201a8\"],[0.3333333333333333,\"#9c179e\"],[0.4444444444444444,\"#bd3786\"],[0.5555555555555556,\"#d8576b\"],[0.6666666666666666,\"#ed7953\"],[0.7777777777777778,\"#fb9f3a\"],[0.8888888888888888,\"#fdca26\"],[1.0,\"#f0f921\"]]}],\"mesh3d\":[{\"type\":\"mesh3d\",\"colorbar\":{\"outlinewidth\":0,\"ticks\":\"\"}}],\"scatter\":[{\"fillpattern\":{\"fillmode\":\"overlay\",\"size\":10,\"solidity\":0.2},\"type\":\"scatter\"}],\"parcoords\":[{\"type\":\"parcoords\",\"line\":{\"colorbar\":{\"outlinewidth\":0,\"ticks\":\"\"}}}],\"scatterpolargl\":[{\"type\":\"scatterpolargl\",\"marker\":{\"colorbar\":{\"outlinewidth\":0,\"ticks\":\"\"}}}],\"bar\":[{\"error_x\":{\"color\":\"#2a3f5f\"},\"error_y\":{\"color\":\"#2a3f5f\"},\"marker\":{\"line\":{\"color\":\"#E5ECF6\",\"width\":0.5},\"pattern\":{\"fillmode\":\"overlay\",\"size\":10,\"solidity\":0.2}},\"type\":\"bar\"}],\"scattergeo\":[{\"type\":\"scattergeo\",\"marker\":{\"colorbar\":{\"outlinewidth\":0,\"ticks\":\"\"}}}],\"scatterpolar\":[{\"type\":\"scatterpolar\",\"marker\":{\"colorbar\":{\"outlinewidth\":0,\"ticks\":\"\"}}}],\"histogram\":[{\"marker\":{\"pattern\":{\"fillmode\":\"overlay\",\"size\":10,\"solidity\":0.2}},\"type\":\"histogram\"}],\"scattergl\":[{\"type\":\"scattergl\",\"marker\":{\"colorbar\":{\"outlinewidth\":0,\"ticks\":\"\"}}}],\"scatter3d\":[{\"type\":\"scatter3d\",\"line\":{\"colorbar\":{\"outlinewidth\":0,\"ticks\":\"\"}},\"marker\":{\"colorbar\":{\"outlinewidth\":0,\"ticks\":\"\"}}}],\"scattermapbox\":[{\"type\":\"scattermapbox\",\"marker\":{\"colorbar\":{\"outlinewidth\":0,\"ticks\":\"\"}}}],\"scatterternary\":[{\"type\":\"scatterternary\",\"marker\":{\"colorbar\":{\"outlinewidth\":0,\"ticks\":\"\"}}}],\"scattercarpet\":[{\"type\":\"scattercarpet\",\"marker\":{\"colorbar\":{\"outlinewidth\":0,\"ticks\":\"\"}}}],\"carpet\":[{\"aaxis\":{\"endlinecolor\":\"#2a3f5f\",\"gridcolor\":\"white\",\"linecolor\":\"white\",\"minorgridcolor\":\"white\",\"startlinecolor\":\"#2a3f5f\"},\"baxis\":{\"endlinecolor\":\"#2a3f5f\",\"gridcolor\":\"white\",\"linecolor\":\"white\",\"minorgridcolor\":\"white\",\"startlinecolor\":\"#2a3f5f\"},\"type\":\"carpet\"}],\"table\":[{\"cells\":{\"fill\":{\"color\":\"#EBF0F8\"},\"line\":{\"color\":\"white\"}},\"header\":{\"fill\":{\"color\":\"#C8D4E3\"},\"line\":{\"color\":\"white\"}},\"type\":\"table\"}],\"barpolar\":[{\"marker\":{\"line\":{\"color\":\"#E5ECF6\",\"width\":0.5},\"pattern\":{\"fillmode\":\"overlay\",\"size\":10,\"solidity\":0.2}},\"type\":\"barpolar\"}],\"pie\":[{\"automargin\":true,\"type\":\"pie\"}]},\"layout\":{\"autotypenumbers\":\"strict\",\"colorway\":[\"#636efa\",\"#EF553B\",\"#00cc96\",\"#ab63fa\",\"#FFA15A\",\"#19d3f3\",\"#FF6692\",\"#B6E880\",\"#FF97FF\",\"#FECB52\"],\"font\":{\"color\":\"#2a3f5f\"},\"hovermode\":\"closest\",\"hoverlabel\":{\"align\":\"left\"},\"paper_bgcolor\":\"white\",\"plot_bgcolor\":\"#E5ECF6\",\"polar\":{\"bgcolor\":\"#E5ECF6\",\"angularaxis\":{\"gridcolor\":\"white\",\"linecolor\":\"white\",\"ticks\":\"\"},\"radialaxis\":{\"gridcolor\":\"white\",\"linecolor\":\"white\",\"ticks\":\"\"}},\"ternary\":{\"bgcolor\":\"#E5ECF6\",\"aaxis\":{\"gridcolor\":\"white\",\"linecolor\":\"white\",\"ticks\":\"\"},\"baxis\":{\"gridcolor\":\"white\",\"linecolor\":\"white\",\"ticks\":\"\"},\"caxis\":{\"gridcolor\":\"white\",\"linecolor\":\"white\",\"ticks\":\"\"}},\"coloraxis\":{\"colorbar\":{\"outlinewidth\":0,\"ticks\":\"\"}},\"colorscale\":{\"sequential\":[[0.0,\"#0d0887\"],[0.1111111111111111,\"#46039f\"],[0.2222222222222222,\"#7201a8\"],[0.3333333333333333,\"#9c179e\"],[0.4444444444444444,\"#bd3786\"],[0.5555555555555556,\"#d8576b\"],[0.6666666666666666,\"#ed7953\"],[0.7777777777777778,\"#fb9f3a\"],[0.8888888888888888,\"#fdca26\"],[1.0,\"#f0f921\"]],\"sequentialminus\":[[0.0,\"#0d0887\"],[0.1111111111111111,\"#46039f\"],[0.2222222222222222,\"#7201a8\"],[0.3333333333333333,\"#9c179e\"],[0.4444444444444444,\"#bd3786\"],[0.5555555555555556,\"#d8576b\"],[0.6666666666666666,\"#ed7953\"],[0.7777777777777778,\"#fb9f3a\"],[0.8888888888888888,\"#fdca26\"],[1.0,\"#f0f921\"]],\"diverging\":[[0,\"#8e0152\"],[0.1,\"#c51b7d\"],[0.2,\"#de77ae\"],[0.3,\"#f1b6da\"],[0.4,\"#fde0ef\"],[0.5,\"#f7f7f7\"],[0.6,\"#e6f5d0\"],[0.7,\"#b8e186\"],[0.8,\"#7fbc41\"],[0.9,\"#4d9221\"],[1,\"#276419\"]]},\"xaxis\":{\"gridcolor\":\"white\",\"linecolor\":\"white\",\"ticks\":\"\",\"title\":{\"standoff\":15},\"zerolinecolor\":\"white\",\"automargin\":true,\"zerolinewidth\":2},\"yaxis\":{\"gridcolor\":\"white\",\"linecolor\":\"white\",\"ticks\":\"\",\"title\":{\"standoff\":15},\"zerolinecolor\":\"white\",\"automargin\":true,\"zerolinewidth\":2},\"scene\":{\"xaxis\":{\"backgroundcolor\":\"#E5ECF6\",\"gridcolor\":\"white\",\"linecolor\":\"white\",\"showbackground\":true,\"ticks\":\"\",\"zerolinecolor\":\"white\",\"gridwidth\":2},\"yaxis\":{\"backgroundcolor\":\"#E5ECF6\",\"gridcolor\":\"white\",\"linecolor\":\"white\",\"showbackground\":true,\"ticks\":\"\",\"zerolinecolor\":\"white\",\"gridwidth\":2},\"zaxis\":{\"backgroundcolor\":\"#E5ECF6\",\"gridcolor\":\"white\",\"linecolor\":\"white\",\"showbackground\":true,\"ticks\":\"\",\"zerolinecolor\":\"white\",\"gridwidth\":2}},\"shapedefaults\":{\"line\":{\"color\":\"#2a3f5f\"}},\"annotationdefaults\":{\"arrowcolor\":\"#2a3f5f\",\"arrowhead\":0,\"arrowwidth\":1},\"geo\":{\"bgcolor\":\"white\",\"landcolor\":\"#E5ECF6\",\"subunitcolor\":\"white\",\"showland\":true,\"showlakes\":true,\"lakecolor\":\"white\"},\"title\":{\"x\":0.05},\"mapbox\":{\"style\":\"light\"}}},\"xaxis\":{\"anchor\":\"y\",\"domain\":[0.0,1.0],\"scaleanchor\":\"y\",\"constrain\":\"domain\",\"title\":{\"text\":\"symbol\"}},\"yaxis\":{\"anchor\":\"x\",\"domain\":[0.0,1.0],\"autorange\":\"reversed\",\"constrain\":\"domain\",\"title\":{\"text\":\"symbol\"}},\"coloraxis\":{\"colorscale\":[[0.0,\"rgb(247,252,245)\"],[0.125,\"rgb(229,245,224)\"],[0.25,\"rgb(199,233,192)\"],[0.375,\"rgb(161,217,155)\"],[0.5,\"rgb(116,196,118)\"],[0.625,\"rgb(65,171,93)\"],[0.75,\"rgb(35,139,69)\"],[0.875,\"rgb(0,109,44)\"],[1.0,\"rgb(0,68,27)\"]],\"cmid\":0},\"margin\":{\"t\":60},\"height\":750,\"title\":{\"text\":\"Spearman Correlation between Stock Prices (from 2023-01-02 to 2023-06-28)\",\"x\":0.485,\"xanchor\":\"center\"}},                        {\"responsive\": true}                    ).then(function(){\n",
              "                            \n",
              "var gd = document.getElementById('1dcec43e-2362-4c83-973a-9114593b87ea');\n",
              "var x = new MutationObserver(function (mutations, observer) {{\n",
              "        var display = window.getComputedStyle(gd).display;\n",
              "        if (!display || display === 'none') {{\n",
              "            console.log([gd, 'removed!']);\n",
              "            Plotly.purge(gd);\n",
              "            observer.disconnect();\n",
              "        }}\n",
              "}});\n",
              "\n",
              "// Listen for the removal of the full notebook cells\n",
              "var notebookContainer = gd.closest('#notebook-container');\n",
              "if (notebookContainer) {{\n",
              "    x.observe(notebookContainer, {childList: true});\n",
              "}}\n",
              "\n",
              "// Listen for the clearing of the current output cell\n",
              "var outputEl = gd.closest('.output');\n",
              "if (outputEl) {{\n",
              "    x.observe(outputEl, {childList: true});\n",
              "}}\n",
              "\n",
              "                        })                };                            </script>        </div>\n",
              "</body>\n",
              "</html>"
            ]
          },
          "metadata": {}
        }
      ]
    },
    {
      "cell_type": "markdown",
      "source": [
        "What can we learn from the corrleation matrix?\n",
        "\n",
        "Which pair or pairs of companies are most and least correlated with eachother?\n",
        "\n",
        "Which companies are most and least correlated with the market?\n",
        "\n",
        "If you own AAPL, which company should you consider buying if you want to hedge your risk?"
      ],
      "metadata": {
        "id": "BeksSEb_U2Uj"
      }
    },
    {
      "cell_type": "markdown",
      "source": [
        "## Calculating Beta"
      ],
      "metadata": {
        "id": "A7xfN5FRjArM"
      }
    },
    {
      "cell_type": "markdown",
      "source": [
        "OK, correlation is fun to look at, but it is not a component of our beta calculation, so let's return our focus to calculating beta.\n",
        "\n",
        "We saw from the \"Understanding Beta\" section that we need to calculcate the variance for each stock, as well as the covariance of that stock with the market.\n",
        "\n",
        "Luckily pandas makes this easy."
      ],
      "metadata": {
        "id": "j0abt7nfjDmu"
      }
    },
    {
      "cell_type": "markdown",
      "source": [
        "### Variance"
      ],
      "metadata": {
        "id": "kleFbFrUkQqh"
      }
    },
    {
      "cell_type": "markdown",
      "source": [
        "https://www.investopedia.com/terms/v/variance.asp\n",
        "\n",
        "<img src=\"https://www.investopedia.com/thmb/_hIorwcVnDj-oKWhpTu_qnuUldM=/750x0/filters:no_upscale():max_bytes(150000):strip_icc():format(webp)/Variance-TAERM-ADD-Source-464952914f77460a8139dbf20e14f0c0.jpg\" height=300>\n",
        "\n",
        "> FYI: standard deviation is the square root of the variance!"
      ],
      "metadata": {
        "id": "vk9Xc_Jyke46"
      }
    },
    {
      "cell_type": "markdown",
      "source": [
        "https://pandas.pydata.org/docs/reference/api/pandas.DataFrame.var.html\n",
        "\n"
      ],
      "metadata": {
        "id": "mLCnC5MvkR3u"
      }
    },
    {
      "cell_type": "code",
      "source": [
        "prices_pivot.var()"
      ],
      "metadata": {
        "colab": {
          "base_uri": "https://localhost:8080/"
        },
        "id": "i9DLbUODenk7",
        "outputId": "670124f5-2ebf-4559-992e-fe277380e14e"
      },
      "execution_count": null,
      "outputs": [
        {
          "output_type": "execute_result",
          "data": {
            "text/plain": [
              "symbol\n",
              "AAPL      254.371481\n",
              "AMZN      136.354841\n",
              "BAC         8.995601\n",
              "GOOGL     141.279839\n",
              "JPM        24.041445\n",
              "META     2076.425020\n",
              "MSFT     1177.059833\n",
              "NFLX     1414.566404\n",
              "NVDA     5774.936403\n",
              "SPY       209.574939\n",
              "dtype: float64"
            ]
          },
          "metadata": {},
          "execution_count": 12
        }
      ]
    },
    {
      "cell_type": "code",
      "source": [
        "prices_pivot.std() ** 2 # squaring the standard deviation, for comparison"
      ],
      "metadata": {
        "colab": {
          "base_uri": "https://localhost:8080/"
        },
        "id": "_0jNOB-i-wrD",
        "outputId": "2c320723-a801-47d6-ba32-b2517edd4713"
      },
      "execution_count": null,
      "outputs": [
        {
          "output_type": "execute_result",
          "data": {
            "text/plain": [
              "symbol\n",
              "AAPL      254.371481\n",
              "AMZN      136.354841\n",
              "BAC         8.995601\n",
              "GOOGL     141.279839\n",
              "JPM        24.041445\n",
              "META     2076.425020\n",
              "MSFT     1177.059833\n",
              "NFLX     1414.566404\n",
              "NVDA     5774.936403\n",
              "SPY       209.574939\n",
              "dtype: float64"
            ]
          },
          "metadata": {},
          "execution_count": 29
        }
      ]
    },
    {
      "cell_type": "markdown",
      "source": [
        "### Covariance\n",
        "\n",
        "https://pandas.pydata.org/docs/reference/api/pandas.DataFrame.cov.html\n",
        "\n",
        "> Computes the pairwise covariance among the series of a DataFrame. The returned data frame is the covariance matrix of the columns of the DataFrame.\n",
        "\n",
        "> This method is generally used for the analysis of time series data to understand the relationship between different measures across time."
      ],
      "metadata": {
        "id": "g9pNN3vCdHi9"
      }
    },
    {
      "cell_type": "code",
      "source": [
        "cov_mat = prices_pivot.cov()\n",
        "cov_mat"
      ],
      "metadata": {
        "colab": {
          "base_uri": "https://localhost:8080/",
          "height": 394
        },
        "id": "b470XJF9cj6F",
        "outputId": "b3ec7424-3c32-4d1d-8458-0c78370d868c"
      },
      "execution_count": null,
      "outputs": [
        {
          "output_type": "execute_result",
          "data": {
            "text/plain": [
              "symbol         AAPL        AMZN         BAC       GOOGL        JPM  \\\n",
              "symbol                                                               \n",
              "AAPL     254.371481  166.394719  -34.483388  171.785475  10.642405   \n",
              "AMZN     166.394719  136.354841  -17.500936  130.866676  18.015394   \n",
              "BAC      -34.483388  -17.500936    8.995601  -22.695658   6.797702   \n",
              "GOOGL    171.785475  130.866676  -22.695658  141.279839   8.855551   \n",
              "JPM       10.642405   18.015394    6.797702    8.855551  24.041445   \n",
              "META     716.217610  473.702598 -101.288621  494.215359  26.017884   \n",
              "MSFT     533.701361  367.591126  -74.727043  384.468300  23.480395   \n",
              "NFLX     390.151709  377.463782  -13.030637  329.448733  84.450181   \n",
              "NVDA    1146.868856  817.991156 -149.249121  810.783116  63.944523   \n",
              "SPY      203.096574  157.621207  -16.064827  148.018352  32.088950   \n",
              "\n",
              "symbol         META         MSFT         NFLX         NVDA         SPY  \n",
              "symbol                                                                  \n",
              "AAPL     716.217610   533.701361   390.151709  1146.868856  203.096574  \n",
              "AMZN     473.702598   367.591126   377.463782   817.991156  157.621207  \n",
              "BAC     -101.288621   -74.727043   -13.030637  -149.249121  -16.064827  \n",
              "GOOGL    494.215359   384.468300   329.448733   810.783116  148.018352  \n",
              "JPM       26.017884    23.480395    84.450181    63.944523   32.088950  \n",
              "META    2076.425020  1535.483194  1091.509423  3322.337092  564.683115  \n",
              "MSFT    1535.483194  1177.059833   873.744288  2479.115921  434.609817  \n",
              "NFLX    1091.509423   873.744288  1414.566404  2144.052626  476.478183  \n",
              "NVDA    3322.337092  2479.115921  2144.052626  5774.936403  962.024620  \n",
              "SPY      564.683115   434.609817   476.478183   962.024620  209.574939  "
            ],
            "text/html": [
              "\n",
              "  <div id=\"df-035c4db6-9e3d-43f3-97bd-4ca7b53019df\">\n",
              "    <div class=\"colab-df-container\">\n",
              "      <div>\n",
              "<style scoped>\n",
              "    .dataframe tbody tr th:only-of-type {\n",
              "        vertical-align: middle;\n",
              "    }\n",
              "\n",
              "    .dataframe tbody tr th {\n",
              "        vertical-align: top;\n",
              "    }\n",
              "\n",
              "    .dataframe thead th {\n",
              "        text-align: right;\n",
              "    }\n",
              "</style>\n",
              "<table border=\"1\" class=\"dataframe\">\n",
              "  <thead>\n",
              "    <tr style=\"text-align: right;\">\n",
              "      <th>symbol</th>\n",
              "      <th>AAPL</th>\n",
              "      <th>AMZN</th>\n",
              "      <th>BAC</th>\n",
              "      <th>GOOGL</th>\n",
              "      <th>JPM</th>\n",
              "      <th>META</th>\n",
              "      <th>MSFT</th>\n",
              "      <th>NFLX</th>\n",
              "      <th>NVDA</th>\n",
              "      <th>SPY</th>\n",
              "    </tr>\n",
              "    <tr>\n",
              "      <th>symbol</th>\n",
              "      <th></th>\n",
              "      <th></th>\n",
              "      <th></th>\n",
              "      <th></th>\n",
              "      <th></th>\n",
              "      <th></th>\n",
              "      <th></th>\n",
              "      <th></th>\n",
              "      <th></th>\n",
              "      <th></th>\n",
              "    </tr>\n",
              "  </thead>\n",
              "  <tbody>\n",
              "    <tr>\n",
              "      <th>AAPL</th>\n",
              "      <td>254.371481</td>\n",
              "      <td>166.394719</td>\n",
              "      <td>-34.483388</td>\n",
              "      <td>171.785475</td>\n",
              "      <td>10.642405</td>\n",
              "      <td>716.217610</td>\n",
              "      <td>533.701361</td>\n",
              "      <td>390.151709</td>\n",
              "      <td>1146.868856</td>\n",
              "      <td>203.096574</td>\n",
              "    </tr>\n",
              "    <tr>\n",
              "      <th>AMZN</th>\n",
              "      <td>166.394719</td>\n",
              "      <td>136.354841</td>\n",
              "      <td>-17.500936</td>\n",
              "      <td>130.866676</td>\n",
              "      <td>18.015394</td>\n",
              "      <td>473.702598</td>\n",
              "      <td>367.591126</td>\n",
              "      <td>377.463782</td>\n",
              "      <td>817.991156</td>\n",
              "      <td>157.621207</td>\n",
              "    </tr>\n",
              "    <tr>\n",
              "      <th>BAC</th>\n",
              "      <td>-34.483388</td>\n",
              "      <td>-17.500936</td>\n",
              "      <td>8.995601</td>\n",
              "      <td>-22.695658</td>\n",
              "      <td>6.797702</td>\n",
              "      <td>-101.288621</td>\n",
              "      <td>-74.727043</td>\n",
              "      <td>-13.030637</td>\n",
              "      <td>-149.249121</td>\n",
              "      <td>-16.064827</td>\n",
              "    </tr>\n",
              "    <tr>\n",
              "      <th>GOOGL</th>\n",
              "      <td>171.785475</td>\n",
              "      <td>130.866676</td>\n",
              "      <td>-22.695658</td>\n",
              "      <td>141.279839</td>\n",
              "      <td>8.855551</td>\n",
              "      <td>494.215359</td>\n",
              "      <td>384.468300</td>\n",
              "      <td>329.448733</td>\n",
              "      <td>810.783116</td>\n",
              "      <td>148.018352</td>\n",
              "    </tr>\n",
              "    <tr>\n",
              "      <th>JPM</th>\n",
              "      <td>10.642405</td>\n",
              "      <td>18.015394</td>\n",
              "      <td>6.797702</td>\n",
              "      <td>8.855551</td>\n",
              "      <td>24.041445</td>\n",
              "      <td>26.017884</td>\n",
              "      <td>23.480395</td>\n",
              "      <td>84.450181</td>\n",
              "      <td>63.944523</td>\n",
              "      <td>32.088950</td>\n",
              "    </tr>\n",
              "    <tr>\n",
              "      <th>META</th>\n",
              "      <td>716.217610</td>\n",
              "      <td>473.702598</td>\n",
              "      <td>-101.288621</td>\n",
              "      <td>494.215359</td>\n",
              "      <td>26.017884</td>\n",
              "      <td>2076.425020</td>\n",
              "      <td>1535.483194</td>\n",
              "      <td>1091.509423</td>\n",
              "      <td>3322.337092</td>\n",
              "      <td>564.683115</td>\n",
              "    </tr>\n",
              "    <tr>\n",
              "      <th>MSFT</th>\n",
              "      <td>533.701361</td>\n",
              "      <td>367.591126</td>\n",
              "      <td>-74.727043</td>\n",
              "      <td>384.468300</td>\n",
              "      <td>23.480395</td>\n",
              "      <td>1535.483194</td>\n",
              "      <td>1177.059833</td>\n",
              "      <td>873.744288</td>\n",
              "      <td>2479.115921</td>\n",
              "      <td>434.609817</td>\n",
              "    </tr>\n",
              "    <tr>\n",
              "      <th>NFLX</th>\n",
              "      <td>390.151709</td>\n",
              "      <td>377.463782</td>\n",
              "      <td>-13.030637</td>\n",
              "      <td>329.448733</td>\n",
              "      <td>84.450181</td>\n",
              "      <td>1091.509423</td>\n",
              "      <td>873.744288</td>\n",
              "      <td>1414.566404</td>\n",
              "      <td>2144.052626</td>\n",
              "      <td>476.478183</td>\n",
              "    </tr>\n",
              "    <tr>\n",
              "      <th>NVDA</th>\n",
              "      <td>1146.868856</td>\n",
              "      <td>817.991156</td>\n",
              "      <td>-149.249121</td>\n",
              "      <td>810.783116</td>\n",
              "      <td>63.944523</td>\n",
              "      <td>3322.337092</td>\n",
              "      <td>2479.115921</td>\n",
              "      <td>2144.052626</td>\n",
              "      <td>5774.936403</td>\n",
              "      <td>962.024620</td>\n",
              "    </tr>\n",
              "    <tr>\n",
              "      <th>SPY</th>\n",
              "      <td>203.096574</td>\n",
              "      <td>157.621207</td>\n",
              "      <td>-16.064827</td>\n",
              "      <td>148.018352</td>\n",
              "      <td>32.088950</td>\n",
              "      <td>564.683115</td>\n",
              "      <td>434.609817</td>\n",
              "      <td>476.478183</td>\n",
              "      <td>962.024620</td>\n",
              "      <td>209.574939</td>\n",
              "    </tr>\n",
              "  </tbody>\n",
              "</table>\n",
              "</div>\n",
              "      <button class=\"colab-df-convert\" onclick=\"convertToInteractive('df-035c4db6-9e3d-43f3-97bd-4ca7b53019df')\"\n",
              "              title=\"Convert this dataframe to an interactive table.\"\n",
              "              style=\"display:none;\">\n",
              "        \n",
              "  <svg xmlns=\"http://www.w3.org/2000/svg\" height=\"24px\"viewBox=\"0 0 24 24\"\n",
              "       width=\"24px\">\n",
              "    <path d=\"M0 0h24v24H0V0z\" fill=\"none\"/>\n",
              "    <path d=\"M18.56 5.44l.94 2.06.94-2.06 2.06-.94-2.06-.94-.94-2.06-.94 2.06-2.06.94zm-11 1L8.5 8.5l.94-2.06 2.06-.94-2.06-.94L8.5 2.5l-.94 2.06-2.06.94zm10 10l.94 2.06.94-2.06 2.06-.94-2.06-.94-.94-2.06-.94 2.06-2.06.94z\"/><path d=\"M17.41 7.96l-1.37-1.37c-.4-.4-.92-.59-1.43-.59-.52 0-1.04.2-1.43.59L10.3 9.45l-7.72 7.72c-.78.78-.78 2.05 0 2.83L4 21.41c.39.39.9.59 1.41.59.51 0 1.02-.2 1.41-.59l7.78-7.78 2.81-2.81c.8-.78.8-2.07 0-2.86zM5.41 20L4 18.59l7.72-7.72 1.47 1.35L5.41 20z\"/>\n",
              "  </svg>\n",
              "      </button>\n",
              "      \n",
              "  <style>\n",
              "    .colab-df-container {\n",
              "      display:flex;\n",
              "      flex-wrap:wrap;\n",
              "      gap: 12px;\n",
              "    }\n",
              "\n",
              "    .colab-df-convert {\n",
              "      background-color: #E8F0FE;\n",
              "      border: none;\n",
              "      border-radius: 50%;\n",
              "      cursor: pointer;\n",
              "      display: none;\n",
              "      fill: #1967D2;\n",
              "      height: 32px;\n",
              "      padding: 0 0 0 0;\n",
              "      width: 32px;\n",
              "    }\n",
              "\n",
              "    .colab-df-convert:hover {\n",
              "      background-color: #E2EBFA;\n",
              "      box-shadow: 0px 1px 2px rgba(60, 64, 67, 0.3), 0px 1px 3px 1px rgba(60, 64, 67, 0.15);\n",
              "      fill: #174EA6;\n",
              "    }\n",
              "\n",
              "    [theme=dark] .colab-df-convert {\n",
              "      background-color: #3B4455;\n",
              "      fill: #D2E3FC;\n",
              "    }\n",
              "\n",
              "    [theme=dark] .colab-df-convert:hover {\n",
              "      background-color: #434B5C;\n",
              "      box-shadow: 0px 1px 3px 1px rgba(0, 0, 0, 0.15);\n",
              "      filter: drop-shadow(0px 1px 2px rgba(0, 0, 0, 0.3));\n",
              "      fill: #FFFFFF;\n",
              "    }\n",
              "  </style>\n",
              "\n",
              "      <script>\n",
              "        const buttonEl =\n",
              "          document.querySelector('#df-035c4db6-9e3d-43f3-97bd-4ca7b53019df button.colab-df-convert');\n",
              "        buttonEl.style.display =\n",
              "          google.colab.kernel.accessAllowed ? 'block' : 'none';\n",
              "\n",
              "        async function convertToInteractive(key) {\n",
              "          const element = document.querySelector('#df-035c4db6-9e3d-43f3-97bd-4ca7b53019df');\n",
              "          const dataTable =\n",
              "            await google.colab.kernel.invokeFunction('convertToInteractive',\n",
              "                                                     [key], {});\n",
              "          if (!dataTable) return;\n",
              "\n",
              "          const docLinkHtml = 'Like what you see? Visit the ' +\n",
              "            '<a target=\"_blank\" href=https://colab.research.google.com/notebooks/data_table.ipynb>data table notebook</a>'\n",
              "            + ' to learn more about interactive tables.';\n",
              "          element.innerHTML = '';\n",
              "          dataTable['output_type'] = 'display_data';\n",
              "          await google.colab.output.renderOutput(dataTable, element);\n",
              "          const docLink = document.createElement('div');\n",
              "          docLink.innerHTML = docLinkHtml;\n",
              "          element.appendChild(docLink);\n",
              "        }\n",
              "      </script>\n",
              "    </div>\n",
              "  </div>\n",
              "  "
            ]
          },
          "metadata": {},
          "execution_count": 30
        }
      ]
    },
    {
      "cell_type": "markdown",
      "source": [
        "If we want to calculate the covariance of \"this with respect to that\", we can access the specific value from this matrix. For example, the covariance of NFLX with respect to the market:"
      ],
      "metadata": {
        "id": "vr-dqJ5S_AUT"
      }
    },
    {
      "cell_type": "code",
      "source": [
        "# if we have well defined index and columns, we can use the loc method and specify the name of the row, then the name of the column\n",
        "# ... df.loc[row_name, col_name]\n",
        "\n",
        "cov_mat.loc[\"NFLX\", \"SPY\"]"
      ],
      "metadata": {
        "colab": {
          "base_uri": "https://localhost:8080/"
        },
        "id": "3Ob9Yo4wckRA",
        "outputId": "28c6cb86-a455-41b2-c654-fe098c1c4653"
      },
      "execution_count": null,
      "outputs": [
        {
          "output_type": "execute_result",
          "data": {
            "text/plain": [
              "476.47818291686275"
            ]
          },
          "metadata": {},
          "execution_count": 31
        }
      ]
    },
    {
      "cell_type": "markdown",
      "source": [
        "### Beta"
      ],
      "metadata": {
        "id": "XuNvINFFibec"
      }
    },
    {
      "cell_type": "code",
      "source": [
        "# calculating beta to market for a given company:\n",
        "symbol = \"NVDA\"\n",
        "\n",
        "# get covariance between this stock and the market\n",
        "cov = cov_mat.loc[symbol, \"SPY\"] # using loc method to access a given [row, col] combo\n",
        "print(f\"COVARIANCE OF {symbol} WITH RESPECT TO THE MARKET:\", cov)"
      ],
      "metadata": {
        "colab": {
          "base_uri": "https://localhost:8080/"
        },
        "id": "itSsqXduidAR",
        "outputId": "baef76cc-b9b3-4e9d-a634-71aee7df50f2"
      },
      "execution_count": null,
      "outputs": [
        {
          "output_type": "stream",
          "name": "stdout",
          "text": [
            "COVARIANCE OF NVDA WITH RESPECT TO THE MARKET: 962.0246198136847\n"
          ]
        }
      ]
    },
    {
      "cell_type": "code",
      "source": [
        "var = prices_pivot[\"SPY\"].var()\n",
        "print(f\"VARIANCE OF {symbol}:\", var)"
      ],
      "metadata": {
        "colab": {
          "base_uri": "https://localhost:8080/"
        },
        "id": "R_nHtTF1RBmO",
        "outputId": "f9902ce2-af5d-4dd5-cb30-3e18594b4c37"
      },
      "execution_count": null,
      "outputs": [
        {
          "output_type": "stream",
          "name": "stdout",
          "text": [
            "VARIANCE OF NVDA: 209.57493866485083\n"
          ]
        }
      ]
    },
    {
      "cell_type": "code",
      "source": [
        "beta = cov / var\n",
        "print(f\"BETA OF {symbol} WITH RESPECT TO THE MARKET:\", beta)"
      ],
      "metadata": {
        "colab": {
          "base_uri": "https://localhost:8080/"
        },
        "id": "ErxhU967RKkE",
        "outputId": "b426fe41-2014-46b8-8767-7628a810bd17"
      },
      "execution_count": null,
      "outputs": [
        {
          "output_type": "stream",
          "name": "stdout",
          "text": [
            "BETA OF NVDA WITH RESPECT TO THE MARKET: 4.590360975136155\n"
          ]
        }
      ]
    },
    {
      "cell_type": "markdown",
      "source": [
        "How can we interpret this beta value? What does it tell us about the company's stock, and the risk involved?"
      ],
      "metadata": {
        "id": "LdiOoeAnRbYl"
      }
    }
  ]
}